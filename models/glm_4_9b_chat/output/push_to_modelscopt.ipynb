{
 "cells": [
  {
   "cell_type": "code",
   "execution_count": 1,
   "metadata": {},
   "outputs": [
    {
     "name": "stderr",
     "output_type": "stream",
     "text": [
      "2025-01-12 00:19:21,236 - modelscope - INFO - PyTorch version 2.5.1 Found.\n",
      "2025-01-12 00:19:21,238 - modelscope - INFO - Loading ast index from /root/.cache/modelscope/ast_indexer\n",
      "2025-01-12 00:19:21,409 - modelscope - INFO - Loading done! Current index file version is 1.15.0, with md5 2f5eeacd95c207bb2bc0f708cda0b4fd and a total number of 980 components indexed\n",
      "/root/miniconda3/envs/manifest_app/lib/python3.11/site-packages/tqdm/auto.py:21: TqdmWarning: IProgress not found. Please update jupyter and ipywidgets. See https://ipywidgets.readthedocs.io/en/stable/user_install.html\n",
      "  from .autonotebook import tqdm as notebook_tqdm\n"
     ]
    },
    {
     "data": {
      "text/plain": [
       "('_NnhWmyytUzJohEcqwNM',\n",
       " <RequestsCookieJar[Cookie(version=0, name='acw_tc', value='0b62601217366123629262388e8a91c7169ea1b0601f242bf2612143d63a99', port=None, port_specified=False, domain='www.modelscope.cn', domain_specified=False, domain_initial_dot=False, path='/', path_specified=True, secure=False, expires=1736614163, discard=False, comment=None, comment_url=None, rest={'HttpOnly': None}, rfc2109=False), Cookie(version=0, name='csrf_session', value='MTczNjYxMjM2MnxEWDhFQVFMX2dBQUJFQUVRQUFBeV80QUFBUVp6ZEhKcGJtY01DZ0FJWTNOeVpsTmhiSFFHYzNSeWFXNW5EQklBRUVnME1uTTJXSFJSZVdVMmJXOVRZbG89fJYAbkOInYrJVeFXLsQED0buAcsYKIYniM0keqcqe23C', port=None, port_specified=False, domain='www.modelscope.cn', domain_specified=False, domain_initial_dot=False, path='/', path_specified=True, secure=False, expires=1739204363, discard=False, comment=None, comment_url=None, rest={}, rfc2109=False), Cookie(version=0, name='csrf_token', value='CRLr7hSeIIBeZbmwq45s38hIL30%3D', port=None, port_specified=False, domain='www.modelscope.cn', domain_specified=False, domain_initial_dot=False, path='/', path_specified=True, secure=False, expires=1739204363, discard=False, comment=None, comment_url=None, rest={}, rfc2109=False), Cookie(version=0, name='m_session_id', value='dfbda156-8a5c-4e1b-a188-dc09aa1c3333', port=None, port_specified=False, domain='www.modelscope.cn', domain_specified=False, domain_initial_dot=False, path='/', path_specified=True, secure=False, expires=1739204363, discard=False, comment=None, comment_url=None, rest={}, rfc2109=False)]>)"
      ]
     },
     "execution_count": 1,
     "metadata": {},
     "output_type": "execute_result"
    }
   ],
   "source": [
    "from modelscope.hub.api import HubApi\n",
    "\n",
    "YOUR_ACCESS_TOKEN = 'dfbda156-8a5c-4e1b-a188-dc09aa1c3333'\n",
    "api = HubApi()\n",
    "api.login(YOUR_ACCESS_TOKEN)"
   ]
  },
  {
   "cell_type": "code",
   "execution_count": 3,
   "metadata": {},
   "outputs": [
    {
     "data": {
      "text/plain": [
       "'https://www.modelscope.cn/ophiraShen/I-AM-Chat_v1'"
      ]
     },
     "execution_count": 3,
     "metadata": {},
     "output_type": "execute_result"
    }
   ],
   "source": [
    "from modelscope.hub.constants import Licenses, ModelVisibility\n",
    "\n",
    "username = 'ophiraShen'\n",
    "model_name = 'I-AM-Chat_v1'\n",
    "model_id = f\"{username}/{model_name}\"\n",
    "\n",
    "api.create_model(\n",
    "    model_id,\n",
    "    visibility=ModelVisibility.PUBLIC,\n",
    "    license=Licenses.APACHE_V2,\n",
    "    chinese_name=\"我即我是对话1.0\"\n",
    ")"
   ]
  },
  {
   "cell_type": "code",
   "execution_count": 5,
   "metadata": {},
   "outputs": [
    {
     "name": "stderr",
     "output_type": "stream",
     "text": [
      "2025-01-12 00:23:17,719 - modelscope - ERROR - Running git command: ['git', 'lfs', 'env'] failed, output: stdout: , stderr: git: 'lfs' is not a git command. See 'git --help'.\n",
      "\n",
      "The most similar command is\n",
      "\tlog\n",
      ".\n",
      "2025-01-12 00:23:17,720 - modelscope - ERROR - git lfs is not installed, please install.\n",
      "2025-01-12 00:23:18,362 - modelscope - ERROR - Running git command: ['git', 'lfs', 'env'] failed, output: stdout: , stderr: git: 'lfs' is not a git command. See 'git --help'.\n",
      "\n",
      "The most similar command is\n",
      "\tlog\n",
      ".\n",
      "2025-01-12 00:23:48,705 - modelscope - INFO - [master 1f237f4] 'upload model'\n",
      " 43 files changed, 3127 insertions(+), 47 deletions(-)\n",
      " delete mode 100644 README.md\n",
      " create mode 100644 checkpoint/checkpoint-720/README.md\n",
      " create mode 100644 checkpoint/checkpoint-720/adapter_config.json\n",
      " create mode 100644 checkpoint/checkpoint-720/adapter_model.safetensors\n",
      " create mode 100644 checkpoint/checkpoint-720/training_state.pt\n",
      " create mode 100644 checkpoint/checkpoint-750/README.md\n",
      " create mode 100644 checkpoint/checkpoint-750/adapter_config.json\n",
      " create mode 100644 checkpoint/checkpoint-750/adapter_model.safetensors\n",
      " create mode 100644 checkpoint/checkpoint-750/training_state.pt\n",
      " create mode 100644 checkpoint/checkpoint-780/README.md\n",
      " create mode 100644 checkpoint/checkpoint-780/adapter_config.json\n",
      " create mode 100644 checkpoint/checkpoint-780/adapter_model.safetensors\n",
      " create mode 100644 checkpoint/checkpoint-780/training_state.pt\n",
      " create mode 100644 checkpoint/checkpoint-810/README.md\n",
      " create mode 100644 checkpoint/checkpoint-810/adapter_config.json\n",
      " create mode 100644 checkpoint/checkpoint-810/adapter_model.safetensors\n",
      " create mode 100644 checkpoint/checkpoint-810/training_state.pt\n",
      " create mode 100644 checkpoint/checkpoint-840/README.md\n",
      " create mode 100644 checkpoint/checkpoint-840/adapter_config.json\n",
      " create mode 100644 checkpoint/checkpoint-840/adapter_model.safetensors\n",
      " create mode 100644 checkpoint/checkpoint-840/training_state.pt\n",
      " create mode 100644 checkpoint/checkpoint-870/README.md\n",
      " create mode 100644 checkpoint/checkpoint-870/adapter_config.json\n",
      " create mode 100644 checkpoint/checkpoint-870/adapter_model.safetensors\n",
      " create mode 100644 checkpoint/checkpoint-870/training_state.pt\n",
      " create mode 100644 checkpoint/checkpoint-900/README.md\n",
      " create mode 100644 checkpoint/checkpoint-900/adapter_config.json\n",
      " create mode 100644 checkpoint/checkpoint-900/adapter_model.safetensors\n",
      " create mode 100644 checkpoint/checkpoint-900/training_state.pt\n",
      " create mode 100644 checkpoint/checkpoint-930/README.md\n",
      " create mode 100644 checkpoint/checkpoint-930/adapter_config.json\n",
      " create mode 100644 checkpoint/checkpoint-930/adapter_model.safetensors\n",
      " create mode 100644 checkpoint/checkpoint-930/training_state.pt\n",
      " create mode 100644 checkpoint/checkpoint-960/README.md\n",
      " create mode 100644 checkpoint/checkpoint-960/adapter_config.json\n",
      " create mode 100644 checkpoint/checkpoint-960/adapter_model.safetensors\n",
      " create mode 100644 checkpoint/checkpoint-960/training_state.pt\n",
      " create mode 100644 configuration.json\n",
      " create mode 100644 lora/README.md\n",
      " create mode 100644 lora/adapter_config.json\n",
      " create mode 100644 lora/adapter_model.safetensors\n",
      " create mode 100644 push_to_modelscopt.ipynb\n",
      " create mode 100644 train.log\n",
      "\n"
     ]
    }
   ],
   "source": [
    "import json\n",
    "\n",
    "config = {\n",
    "    \"model_type\": \"chat\",\n",
    "    \"framework\": \"pytorch\",\n",
    "    \"task\": \"text-generation\",\n",
    "    \"pipeline_tag\": \"chat\",\n",
    "    \"model_info\": {\n",
    "        \"base_model\": \"GLM-4-9B\",\n",
    "        \"model_name\": \"I-AM-Chat\",\n",
    "        \"version\": \"v1.0\"\n",
    "    },\n",
    "    \"license\": \"Apache License 2.0\",\n",
    "    \"language\": \"zh\",\n",
    "}\n",
    "\n",
    "# 保存配置文件\n",
    "config_path = \"/root/autodl-tmp/I-AM/models/glm_4_9b_chat/output/i_am-20241217-013701/configuration.json\"\n",
    "with open(config_path, 'w', encoding='utf-8') as f:\n",
    "    json.dump(config, f, ensure_ascii=False, indent=2)\n",
    "\n",
    "# 然后重新尝试推送\n",
    "api.push_model(\n",
    "    model_id=model_id,\n",
    "    model_dir=\"/root/autodl-tmp/I-AM/models/glm_4_9b_chat/output/i_am-20241217-013701\"\n",
    ")"
   ]
  },
  {
   "cell_type": "code",
   "execution_count": null,
   "metadata": {},
   "outputs": [],
   "source": []
  }
 ],
 "metadata": {
  "kernelspec": {
   "display_name": "manifest_app",
   "language": "python",
   "name": "python3"
  },
  "language_info": {
   "codemirror_mode": {
    "name": "ipython",
    "version": 3
   },
   "file_extension": ".py",
   "mimetype": "text/x-python",
   "name": "python",
   "nbconvert_exporter": "python",
   "pygments_lexer": "ipython3",
   "version": "3.11.11"
  }
 },
 "nbformat": 4,
 "nbformat_minor": 2
}
