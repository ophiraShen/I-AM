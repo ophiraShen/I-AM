{
 "cells": [
  {
   "cell_type": "code",
   "execution_count": 1,
   "metadata": {},
   "outputs": [
    {
     "data": {
      "text/plain": [
       "True"
      ]
     },
     "execution_count": 1,
     "metadata": {},
     "output_type": "execute_result"
    }
   ],
   "source": [
    "from langchain_openai import ChatOpenAI\n",
    "from langchain_core.messages import AIMessage, HumanMessage, SystemMessage, ToolMessage\n",
    "from langchain_core.prompts import ChatPromptTemplate, MessagesPlaceholder\n",
    "from langchain_core.runnables import Runnable, RunnableConfig\n",
    "from langgraph.checkpoint.memory import MemorySaver\n",
    "from langgraph.graph import StateGraph, START, END\n",
    "from langgraph.graph.message import AnyMessage, add_messages\n",
    "from typing import TypedDict, Annotated, Literal, NotRequired\n",
    "\n",
    "import uuid\n",
    "import os\n",
    "from dotenv import load_dotenv\n",
    "\n",
    "load_dotenv()"
   ]
  },
  {
   "cell_type": "markdown",
   "metadata": {},
   "source": [
    "## 日记模块"
   ]
  },
  {
   "cell_type": "code",
   "execution_count": 2,
   "metadata": {},
   "outputs": [],
   "source": [
    "class DiaryState(TypedDict):\n",
    "    messages: Annotated[list[AnyMessage], add_messages]\n",
    "\n",
    "def diary_agent(state: DiaryState) -> DiaryState:\n",
    "    return {\"messages\": [AIMessage(content=\"日记模块已启动, 请开始记录\")]}\n",
    "\n",
    "DiaryModel = StateGraph(DiaryState)\n",
    "DiaryModel.add_node(\"diary_agent\", diary_agent)\n",
    "DiaryModel.add_edge(START, \"diary_agent\")\n",
    "DiaryModel.add_edge(\"diary_agent\", END)\n",
    "\n",
    "diary_graph = DiaryModel.compile()"
   ]
  },
  {
   "cell_type": "markdown",
   "metadata": {},
   "source": [
    "## 冥想模块"
   ]
  },
  {
   "cell_type": "code",
   "execution_count": 3,
   "metadata": {},
   "outputs": [],
   "source": [
    "class MeditationState(TypedDict):\n",
    "    messages: Annotated[list[AnyMessage], add_messages]\n",
    "\n",
    "def meditation_agent(state: MeditationState) -> MeditationState:\n",
    "    return {\"messages\": [AIMessage(content=\"冥想模块已启动, 请开始冥想\")]}\n",
    "\n",
    "MeditationModel = StateGraph(MeditationState)\n",
    "MeditationModel.add_node(\"meditation_agent\", meditation_agent)\n",
    "MeditationModel.add_edge(START, \"meditation_agent\")\n",
    "MeditationModel.add_edge(\"meditation_agent\", END)\n",
    "\n",
    "meditation_graph = MeditationModel.compile()\n"
   ]
  },
  {
   "cell_type": "markdown",
   "metadata": {},
   "source": [
    "## 主对话模块"
   ]
  },
  {
   "cell_type": "code",
   "execution_count": 4,
   "metadata": {},
   "outputs": [],
   "source": [
    "class RouterState(TypedDict):\n",
    "    messages: Annotated[list[AnyMessage], add_messages]\n",
    "    route: Literal[\"diary\", \"meditation\", \"normal_chat\"]\n",
    "\n",
    "class Router(TypedDict):\n",
    "    route: Literal[\"diary\", \"meditation\", \"normal_chat\"]\n",
    "\n",
    "with open('../prompts/chat_prompt.txt', 'r') as file:\n",
    "    system_prompt = file.read().strip()\n",
    "\n",
    "normal_system_prompt = ChatPromptTemplate([SystemMessage(content=system_prompt), MessagesPlaceholder(variable_name=\"messages\")])\n",
    "\n",
    "llm = ChatOpenAI(model=\"deepseek-chat\", openai_api_key=os.getenv(\"DEEPSEEK_API_KEY\"), openai_api_base='https://api.deepseek.com')\n",
    "router_model = llm.with_structured_output(Router)\n",
    "normal_llm = normal_system_prompt | llm\n",
    "\n",
    "def router_node(state: RouterState):\n",
    "    system_message = system_message = \"\"\"你是一个智能路由分类器。你的职责是严格按照以下规则进行分类：\n",
    "\n",
    "    基本原则：\n",
    "    默认情况下应返回 \"normal_chat\"，只有在用户明确表示要在当下进行冥想或写日记时才改变路由。\n",
    "\n",
    "    具体分类规则：\n",
    "    1. 返回 \"diary\" 仅限于：\n",
    "       - 用户明确说\"我现在要写日记\"、\"开始写日记吧\"等表示当下要写日记的话\n",
    "       - 对 AI 的日记建议回复\"好\"、\"可以\"、\"同意\"等明确同意的话\n",
    "\n",
    "    2. 返回 \"meditation\" 仅限于：\n",
    "       - 用户明确说\"我现在要冥想\"、\"让我们开始冥想吧\"、\"请生成一个 xxx 的冥想音频\"等表示当下要冥想的话\n",
    "       - 对 AI 的冥想建议回复\"好\"、\"可以\"、\"同意\"等明确同意的话\n",
    "\n",
    "    3. 返回 \"normal_chat\" 的情况（包括但不限于）：\n",
    "       - 用户在讨论冥想经验（如\"冥想的时候总是走神\"）\n",
    "       - 用户在讨论过去的冥想体验（如\"冥想音频已生成\"）\n",
    "       - 用户在询问冥想或日记相关建议\n",
    "       - 用户表达负面情绪（如焦虑、压力等）\n",
    "       - 用户对功能建议没有明确回应\n",
    "       - 所有其他对话内容\n",
    "\n",
    "    错误示例：\n",
    "    - 用户说\"冥想的时候总是走神\" -> 应返回 normal_chat，而不是 meditation\n",
    "    - 用户说\"冥想音频已生成\" -> 应返回 normal_chat，而不是 meditation\n",
    "    - 用户说\"上次写日记的感受很好\" -> 应返回 normal_chat，而不是 diary\n",
    "    - 用户说\"我想学习冥想\" -> 应返回 normal_chat，而不是 meditation\n",
    "\n",
    "    关键判断：\n",
    "    - 必须明确区分\"讨论某个功能\"和\"要使用某个功能\"\n",
    "    - 只有用户明确表示要在当下使用功能时才转换路由\n",
    "    - 如有任何疑虑，始终返回 normal_chat\n",
    "    \"\"\"\n",
    "    messages = [SystemMessage(content=system_message)] + state[\"messages\"]\n",
    "    route = router_model.invoke(messages)\n",
    "    return {\"route\": route[\"route\"]}\n",
    "\n",
    "def normal_chat_agent(state: RouterState):\n",
    "    response = normal_llm.invoke(state[\"messages\"])\n",
    "    return {\"messages\": [response]}\n",
    "\n",
    "def diary_agent(state: RouterState):\n",
    "    response = diary_graph.invoke(state)\n",
    "    return {\"messages\": [response[\"messages\"][-1]]}\n",
    "\n",
    "def meditation_agent(state: RouterState):\n",
    "    response = meditation_graph.invoke(state)\n",
    "    return {\"messages\": [response[\"messages\"][-1]]}\n",
    "\n",
    "def condition_edge(state: RouterState):\n",
    "    if state[\"route\"] == \"diary\":\n",
    "        return \"diary_agent\"\n",
    "    elif state[\"route\"] == \"meditation\":\n",
    "        return \"meditation_agent\"\n",
    "    else:\n",
    "        return \"normal_chat_agent\"\n",
    "\n",
    "MainDialogueModel = StateGraph(RouterState)\n",
    "MainDialogueModel.add_node(\"router_node\", router_node)\n",
    "MainDialogueModel.add_node(\"normal_chat_agent\", normal_chat_agent)\n",
    "MainDialogueModel.add_node(\"diary_agent\", diary_agent)\n",
    "MainDialogueModel.add_node(\"meditation_agent\", meditation_agent)\n",
    "MainDialogueModel.add_edge(START, \"router_node\")\n",
    "MainDialogueModel.add_conditional_edges(\"router_node\", condition_edge)\n",
    "MainDialogueModel.add_edge(\"normal_chat_agent\", END)\n",
    "MainDialogueModel.add_edge(\"diary_agent\", END)\n",
    "MainDialogueModel.add_edge(\"meditation_agent\", END)\n",
    "\n",
    "memory = MemorySaver()\n",
    "main_dialogue_graph = MainDialogueModel.compile(checkpointer=memory, interrupt_before=[\"diary_agent\", \"meditation_agent\"])"
   ]
  },
  {
   "cell_type": "code",
   "execution_count": 5,
   "metadata": {},
   "outputs": [
    {
     "data": {
      "image/png": "[encoded data removed]",
      "text/plain": [
       "<langgraph.graph.state.CompiledStateGraph object at 0x7f199151e7d0>"
      ]
     },
     "execution_count": 5,
     "metadata": {},
     "output_type": "execute_result"
    }
   ],
   "source": [
    "main_dialogue_graph"
   ]
  },
  {
   "cell_type": "code",
   "execution_count": 6,
   "metadata": {},
   "outputs": [],
   "source": [
    "config = {\"configurable\": {\"thread_id\": \"001\"}}"
   ]
  },
  {
   "cell_type": "code",
   "execution_count": 7,
   "metadata": {},
   "outputs": [
    {
     "name": "stdout",
     "output_type": "stream",
     "text": [
      "================================\u001b[1m Human Message \u001b[0m=================================\n",
      "\n",
      "请为我生成一段有助睡眠的冥想脚本\n",
      "================================\u001b[1m Human Message \u001b[0m=================================\n",
      "\n",
      "请为我生成一段有助睡眠的冥想脚本\n",
      "==================================\u001b[1m Ai Message \u001b[0m==================================\n",
      "\n",
      "当然，我很乐意为你创作一段助眠冥想脚本。让我们一起来创造一个宁静的夜晚体验吧。🌙\n",
      "\n",
      "---\n",
      "\n",
      "**宁静之夜：助眠冥想脚本**\n",
      "\n",
      "亲爱的朋友，请找一个舒适的地方躺下或坐下，闭上眼睛，开始我们的宁静之旅。\n",
      "\n",
      "1. **深呼吸**  \n",
      "   首先，深深地吸一口气，感受空气缓缓进入你的鼻腔，充满你的肺部。然后，慢慢地呼出，感受所有的紧张和压力随着呼气离开你的身体。再来一次，深深地吸气，慢慢地呼气。让每一次呼吸都带你进入更深层的放松状态。\n",
      "\n",
      "2. **身体扫描**  \n",
      "   现在，让我们从脚趾开始，慢慢地扫描你的身体。感受你的脚趾，它们是否感到沉重或轻松？让它们完全放松。接着是你的脚踝、小腿、膝盖，让每一块肌肉都放松下来。继续向上，感受你的大腿、臀部、腹部，让它们都沉浸在舒适和放松中。然后是胸部、肩膀、手臂，直到你的指尖。最后，感受你的脖子、脸部，让所有的紧张都消失。\n",
      "\n",
      "3. **想象宁静的场景**  \n",
      "   现在，想象你正躺在一片柔软的草地上，周围是宁静的夜晚。你可以听到微风轻轻拂过树叶的声音，感受到草地上的露珠轻轻触碰你的皮肤。抬头看，夜空中繁星点点，月亮温柔地照耀着你。感受这份宁静和安详，让它们充满你的整个身体。\n",
      "\n",
      "4. **肯定宣言**  \n",
      "   在心里默念这些肯定宣言：  \n",
      "   - 我允许自己完全放松。  \n",
      "   - 我感受到宁静和安详。  \n",
      "   - 我信任我的身体，它会带我进入深沉的睡眠。  \n",
      "   - 我值得拥有一个美好的夜晚和充足的休息。\n",
      "\n",
      "5. **回归呼吸**  \n",
      "   最后，再次将注意力回到你的呼吸上。感受每一次吸气和呼气，让它们带你进入更深层的放松状态。当你准备好时，慢慢地睁开眼睛，带着这份宁静和安详，进入甜美的梦乡。\n",
      "\n",
      "---\n",
      "\n",
      "希望这段冥想脚本能帮助你进入一个宁静的夜晚。如果你有任何反馈或需要调整的地方，请随时告诉我。祝你有一个美好的睡眠！🌙✨\n"
     ]
    }
   ],
   "source": [
    "inputs = {\"messages\": [HumanMessage(content=\"请为我生成一段有助睡眠的冥想脚本\")]}\n",
    "for chunk in main_dialogue_graph.stream(inputs, config=config, stream_mode=\"values\"):\n",
    "    # print(chunk[0].content,  end=\"\")\n",
    "    chunk['messages'][-1].pretty_print()\n",
    "state = main_dialogue_graph.get_state(config)\n",
    "if state.next:\n",
    "    if state.next[0] == \"diary_agent\":\n",
    "        user_approval = input(\"是否打开显化日记本？(yes/no):\")\n",
    "        if user_approval.lower() == \"yes\":\n",
    "            for chunk in main_dialogue_graph.stream(None, config=config, stream_mode=\"messages\"):\n",
    "                print(chunk[0].content,  end=\"\")\n",
    "    elif state.next[0] == \"meditation_agent\":\n",
    "        user_approval = input(\"是否打开冥想音频？(yes/no):\")\n",
    "        if user_approval.lower() == \"yes\":\n",
    "            for chunk in main_dialogue_graph.stream(None, config=config, stream_mode=\"messages\"):\n",
    "                print(chunk[0].content,  end=\"\")\n"
   ]
  },
  {
   "cell_type": "code",
   "execution_count": null,
   "metadata": {},
   "outputs": [],
   "source": []
  }
 ],
 "metadata": {
  "kernelspec": {
   "display_name": "manifest_app",
   "language": "python",
   "name": "python3"
  },
  "language_info": {
   "codemirror_mode": {
    "name": "ipython",
    "version": 3
   },
   "file_extension": ".py",
   "mimetype": "text/x-python",
   "name": "python",
   "nbconvert_exporter": "python",
   "pygments_lexer": "ipython3",
   "version": "3.11.11"
  }
 },
 "nbformat": 4,
 "nbformat_minor": 2
}
