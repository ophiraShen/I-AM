{
 "cells": [
  {
   "cell_type": "code",
   "execution_count": 1,
   "metadata": {},
   "outputs": [
    {
     "data": {
      "text/plain": [
       "True"
      ]
     },
     "execution_count": 1,
     "metadata": {},
     "output_type": "execute_result"
    }
   ],
   "source": [
    "import sys\n",
    "\n",
    "sys.path.append('/root/autodl-tmp/I-AM/project/backend/agents')\n",
    "\n",
    "from langchain_openai import ChatOpenAI\n",
    "from langchain_core.messages import AIMessage, HumanMessage, SystemMessage, ToolMessage\n",
    "from langchain_core.prompts import ChatPromptTemplate, MessagesPlaceholder\n",
    "# from langchain_core.runnables import Runnable, RunnableConfig\n",
    "# from langgraph.checkpoint.memory import MemorySaver\n",
    "from langgraph.graph import StateGraph, START, END\n",
    "from langgraph.graph.message import AnyMessage, add_messages\n",
    "from typing import List, Optional, Dict, Any, Literal\n",
    "from pydantic import BaseModel, Field, ConfigDict, field_validator\n",
    "import json\n",
    "import yaml\n",
    "from datetime import datetime\n",
    "import os\n",
    "from dotenv import load_dotenv\n",
    "\n",
    "load_dotenv()"
   ]
  },
  {
   "cell_type": "code",
   "execution_count": 2,
   "metadata": {},
   "outputs": [],
   "source": [
    "with open('/root/autodl-tmp/I-AM/project/backend/config/affirmation.yaml', 'r') as f:\n",
    "    config = yaml.safe_load(f)"
   ]
  },
  {
   "cell_type": "code",
   "execution_count": 3,
   "metadata": {},
   "outputs": [
    {
     "data": {
      "text/plain": [
       "{'paths': {'project_root': '/root/autodl-tmp/I-AM/project/backend',\n",
       "  'agents_path': '/root/autodl-tmp/I-AM/project/backend/agents',\n",
       "  'prompts_path': '/root/autodl-tmp/I-AM/project/backend/agents/prompts/affirmation',\n",
       "  'output_path': '/root/autodl-tmp/I-AM/project/backend/agents/output/affirmation'},\n",
       " 'prompts': {'insight': '/root/autodl-tmp/I-AM/project/backend/agents/prompts/affirmation/affiramtion_insight_prompt.txt',\n",
       "  'generator': '/root/autodl-tmp/I-AM/project/backend/agents/prompts/affirmation/affirmation_generator_promot.txt'}}"
      ]
     },
     "execution_count": 3,
     "metadata": {},
     "output_type": "execute_result"
    }
   ],
   "source": [
    "config"
   ]
  },
  {
   "cell_type": "code",
   "execution_count": 4,
   "metadata": {},
   "outputs": [],
   "source": [
    "\n",
    "llm = ChatOpenAI(model=\"deepseek-chat\", openai_api_key=os.getenv(\"DEEPSEEK_API_KEY\"), openai_api_base='https://api.deepseek.com')"
   ]
  },
  {
   "cell_type": "code",
   "execution_count": 5,
   "metadata": {},
   "outputs": [],
   "source": [
    "def add_log(current_log, new_log: str) -> list[str]:\n",
    "    if current_log is None:\n",
    "        return [new_log]\n",
    "    elif isinstance(current_log, list):\n",
    "        return current_log + [new_log]\n",
    "    elif isinstance(current_log, str):\n",
    "        return [current_log, new_log]\n",
    "    else:\n",
    "        return [new_log]\n",
    "\n",
    "class OverallState(BaseModel):\n",
    "    model_config = ConfigDict(arbitrary_types_allowed=True)\n",
    "\n",
    "    messages: List[AnyMessage] = Field(default_factory=list, title=\"对话列表\")\n",
    "    route: Literal[\"affirmation\", \"meditation\", \"normal_chat\"] = Field(default=\"normal_chat\", title=\"当前路由\")\n",
    "    log: List[str] = Field(default_factory=list, title=\"日志列表\")\n",
    "\n",
    "    @field_validator('log', mode='before')\n",
    "    def validate_log(cls, v, info):\n",
    "        if v is None or (isinstance(v, list) and len(v) == 0):\n",
    "            return []\n",
    "        if 'log' in info.data:\n",
    "            return add_log(info.data['log'], v)\n",
    "        return [v] if isinstance(v ,str) else v\n",
    "        \n",
    "\n",
    "    @field_validator('messages', mode='before')\n",
    "    def validate_messages(cls, v, info):\n",
    "        if 'messages' in info.data:\n",
    "            return add_messages(info.data['messages'], v)\n",
    "        else:\n",
    "            return v if isinstance(v, list) else [v]"
   ]
  },
  {
   "cell_type": "markdown",
   "metadata": {},
   "source": [
    "## 统一的结果状态类"
   ]
  },
  {
   "cell_type": "code",
   "execution_count": 6,
   "metadata": {},
   "outputs": [],
   "source": [
    "class NodeResult(OverallState):\n",
    "    local_route: Literal[\"insight_node\", \"generator_node\", \"error_node\"] = Field(default=\"insight_node\", title=\"本地路由\")\n",
    "    success: bool = Field(default=True, title=\"节点执行是否成功\")\n",
    "    data: Optional[Dict[str, Any]] = Field(default=None, title=\"节点间传递的数据\")\n",
    "    error: Optional[str] = Field(default=None, title=\"错误信息\")"
   ]
  },
  {
   "cell_type": "markdown",
   "metadata": {},
   "source": [
    "## InsightAnalyzer Node"
   ]
  },
  {
   "cell_type": "code",
   "execution_count": 7,
   "metadata": {},
   "outputs": [],
   "source": [
    "class InsightAnalyzer(BaseModel):\n",
    "    core_needs: str = Field(..., description=\"用户的核心需求\")\n",
    "    emotional_state: List[str] = Field(..., description=\"用户的情绪状态\")\n",
    "    key_issues: List[str] = Field(..., description=\"关键问题点\")\n",
    "    suggested_affirmation_count: int = Field(..., description=\"建议生成的肯定语条数\")\n",
    "\n",
    "    @property\n",
    "    def as_str(self):\n",
    "        emotional = \".\".join(self.emotional_state)\n",
    "        key_issues = \".\".join(self.key_issues)\n",
    "        return f\"核心需求: {self.core_needs}\\n情绪状态: {emotional}\\n关键问题点: {key_issues}\\n建议生成的肯定语条数: {self.suggested_affirmation_count}\"\n",
    "\n",
    "with open (config['prompts']['insight'], 'r') as f:\n",
    "    INSIGHT_PROMPT = f.read()\n",
    "\n",
    "def create_insight(state: NodeResult) -> NodeResult:\n",
    "    try:\n",
    "        conversation_content = \"\"\n",
    "        for message in state.messages:\n",
    "            if isinstance(message, HumanMessage):\n",
    "                conversation_content += f\"user: {message.content}\\n\"\n",
    "            elif isinstance(message, AIMessage):\n",
    "                conversation_content += f\"assistant: {message.content}\\n\"\n",
    "            else:\n",
    "                continue\n",
    "        insight_prompt = ChatPromptTemplate([\n",
    "            (\"system\", INSIGHT_PROMPT),\n",
    "            (\"human\", \"{conversation}\")\n",
    "        ])\n",
    "        generate_insight_chain = insight_prompt | llm.with_structured_output(InsightAnalyzer)\n",
    "        insight = generate_insight_chain.invoke({\"conversation\": conversation_content})\n",
    "        print(\"insight\", insight)\n",
    "        return NodeResult(local_route=\"insight_node\", route=\"affirmation\", data={\"conversation\": conversation_content, \"insight\": insight.as_str})\n",
    "    except Exception as e:\n",
    "        return NodeResult(local_route=\"insight_node\", route=\"affirmation\", success=False, error=str(e), log=\"对话分析失败。\")\n"
   ]
  },
  {
   "cell_type": "markdown",
   "metadata": {},
   "source": [
    "## Generator Node"
   ]
  },
  {
   "cell_type": "code",
   "execution_count": 8,
   "metadata": {},
   "outputs": [],
   "source": [
    "class Affirmations(BaseModel):\n",
    "    affirmations: List[str] = Field(..., description=\"生成的肯定语\")\n",
    "\n",
    "    @property\n",
    "    def to_yaml_dict(self):\n",
    "        return {\n",
    "            \"affirmations\": self.affirmations\n",
    "        }\n",
    "\n",
    "with open (config['prompts']['generator'], 'r') as f:\n",
    "    GENERATOR_PROMPT = f.read()\n",
    "\n",
    "def create_affirmations(state: NodeResult) -> NodeResult:\n",
    "    try:\n",
    "        user_message = \"请基于以下信息生成个性化肯定语：\\n\\n对话内容：\\n{conversation}\\n对话分析：\\n{insight}\"\n",
    "        generator_prompt = ChatPromptTemplate([\n",
    "            (\"system\", GENERATOR_PROMPT),\n",
    "            (\"human\", user_message)\n",
    "        ])\n",
    "        generate_affirmations_chain = generator_prompt | llm.with_structured_output(Affirmations)\n",
    "        affirmations = generate_affirmations_chain.invoke(\n",
    "            {\n",
    "                \"conversation\": state.data[\"conversation\"],\n",
    "                \"insight\": state.data[\"insight\"]\n",
    "            }\n",
    "        )\n",
    "        timestamp = datetime.now().strftime(\"%Y%m%d%H%M%S\")\n",
    "        output_dir = config['paths']['output_path']\n",
    "        os.makedirs(output_dir, exist_ok=True)\n",
    "        output_path = f\"{output_dir}/{timestamp}.yaml\"\n",
    "        with open(output_path, 'w', encoding='utf-8') as f:\n",
    "            yaml.dump(affirmations.to_yaml_dict, f, allow_unicode=True)\n",
    "\n",
    "        return NodeResult(local_route=\"generator_node\", route=\"affirmation\", data={\"affirmations\": affirmations.affirmations})\n",
    "    except Exception as e:\n",
    "        return NodeResult(local_route=\"generator_node\", route=\"affirmation\", success=False, error=str(e), log=\"肯定语生成失败\")"
   ]
  },
  {
   "cell_type": "markdown",
   "metadata": {},
   "source": [
    "## Error Node"
   ]
  },
  {
   "cell_type": "code",
   "execution_count": 9,
   "metadata": {},
   "outputs": [],
   "source": [
    "def handle_error(state: NodeResult) -> NodeResult:\n",
    "    error_msg = state.error\n",
    "    return NodeResult(\n",
    "        route=\"affirmation\",\n",
    "        success=False,\n",
    "        error=error_msg,\n",
    "        log=f\"处理错误: {error_msg}\"\n",
    "    )\n"
   ]
  },
  {
   "cell_type": "markdown",
   "metadata": {},
   "source": [
    "## 构建图"
   ]
  },
  {
   "cell_type": "code",
   "execution_count": 10,
   "metadata": {},
   "outputs": [],
   "source": [
    "def check_success(state: NodeResult):\n",
    "    if state.success:\n",
    "        return \"success_node\"\n",
    "    else:\n",
    "        return \"error_node\"\n",
    "\n",
    "affirmation_workflow = StateGraph(NodeResult)\n",
    "\n",
    "affirmation_workflow.add_node(\"insight_node\", create_insight)\n",
    "affirmation_workflow.add_node(\"generator_node\", create_affirmations)\n",
    "affirmation_workflow.add_node(\"error_node\", handle_error)\n",
    "\n",
    "affirmation_workflow.add_conditional_edges(\n",
    "    \"insight_node\",\n",
    "    check_success,\n",
    "    {\n",
    "        \"success_node\": \"generator_node\",\n",
    "        \"error_node\": \"error_node\"\n",
    "    }\n",
    ")\n",
    "affirmation_workflow.add_conditional_edges(\n",
    "    \"generator_node\",\n",
    "    check_success,\n",
    "    {\n",
    "        \"success_node\": END,\n",
    "        \"error_node\": \"error_node\"\n",
    "    }\n",
    ")\n",
    "\n",
    "affirmation_workflow.add_edge(START, \"insight_node\")\n",
    "affirmation_workflow.add_edge(\"error_node\", END)\n",
    "\n",
    "affirmation_graph = affirmation_workflow.compile()\n"
   ]
  },
  {
   "cell_type": "code",
   "execution_count": 11,
   "metadata": {},
   "outputs": [
    {
     "data": {
      "image/png": "[encoded data removed]",
      "text/plain": [
       "<IPython.core.display.Image object>"
      ]
     },
     "metadata": {},
     "output_type": "display_data"
    }
   ],
   "source": [
    "from IPython.display import Image, display\n",
    "\n",
    "# Setting xray to 1 will show the internal structure of the nested graph\n",
    "display(Image(affirmation_graph.get_graph(xray=2).draw_mermaid_png()))"
   ]
  },
  {
   "cell_type": "code",
   "execution_count": 12,
   "metadata": {},
   "outputs": [],
   "source": [
    "messages = [HumanMessage(content='你好', additional_kwargs={}, response_metadata={}, id='112fe4cd-0b01-47d7-83c1-30ff2599f4e7'),\n",
    " AIMessage(content='你好呀！很高兴见到你！😊 我是Seraph，你的吸引力法则与显化法则引导师。今天感觉怎么样呢？有没有什么特别想聊的，或者最近有什么让你感到兴奋或困惑的事情吗？无论是学业、事业、感情、财富还是个人成长，我都很乐意和你一起探讨哦！', additional_kwargs={'refusal': None}, response_metadata={'token_usage': {'completion_tokens': 67, 'prompt_tokens': 846, 'total_tokens': 913, 'completion_tokens_details': None, 'prompt_tokens_details': None, 'prompt_cache_hit_tokens': 128, 'prompt_cache_miss_tokens': 718}, 'model_name': 'deepseek-chat', 'system_fingerprint': 'fp_3a5770e1b4', 'finish_reason': 'stop', 'logprobs': None}, id='run-ae92404d-02f2-4297-913f-96f1034d1f1d-0', usage_metadata={'input_tokens': 846, 'output_tokens': 67, 'total_tokens': 913, 'input_token_details': {}, 'output_token_details': {}}),\n",
    " HumanMessage(content='最近经济压力很大，有点焦虑和沮丧，担心下个月的账单无法偿还', additional_kwargs={}, response_metadata={}, id='eb59afa6-22cc-40b2-89e7-014a2ab4ba02'),\n",
    " AIMessage(content='我能感受到你现在的焦虑和压力，经济问题确实会让人感到不安。不过，亲爱的，请记住，这只是暂时的。让我们一起看看如何通过吸引力法则来改善这个状况吧。💖\\n\\n首先，深呼吸，试着放松一下。焦虑只会让我们更难看到解决方案。你愿意和我分享一下，你理想中的财务状况是怎样的吗？想象一下，如果没有任何限制，你希望自己的经济状况是什么样子的？', additional_kwargs={'refusal': None}, response_metadata={'token_usage': {'completion_tokens': 84, 'prompt_tokens': 932, 'total_tokens': 1016, 'completion_tokens_details': None, 'prompt_tokens_details': None, 'prompt_cache_hit_tokens': 832, 'prompt_cache_miss_tokens': 100}, 'model_name': 'deepseek-chat', 'system_fingerprint': 'fp_3a5770e1b4', 'finish_reason': 'stop', 'logprobs': None}, id='run-ff12cb77-eb79-4cc0-ad0f-c98b531d59fd-0', usage_metadata={'input_tokens': 932, 'output_tokens': 84, 'total_tokens': 1016, 'input_token_details': {}, 'output_token_details': {}}),\n",
    " HumanMessage(content='我希望我的账户里永远都有1万元的现金。', additional_kwargs={}, response_metadata={}, id='66127da7-1fcb-4d9a-b4e9-ea35fad8770f'),\n",
    " AIMessage(content='这个目标很棒！1万元的现金储备确实能给人很大的安全感。让我们把这个愿望具体化，让它更容易实现。🌟\\n\\n首先，我们可以把这个目标分解成更小的步骤。比如，先设定一个短期目标，比如在下个月底前存下1000元。你觉得这个目标可行吗？\\n\\n另外，我们可以一起制定一个简单的显化计划：\\n1. 每天早晨醒来时，花几分钟想象自己已经拥有了1万元的存款，感受那种安心和喜悦。\\n2. 写下一句肯定语，比如\"我总能轻松地吸引财富和机会\"。\\n3. 留意身边出现的任何赚钱或省钱的机会。\\n\\n你觉得这些建议怎么样？有没有什么想法想和我分享的？', additional_kwargs={'refusal': None}, response_metadata={'token_usage': {'completion_tokens': 143, 'prompt_tokens': 1029, 'total_tokens': 1172, 'completion_tokens_details': None, 'prompt_tokens_details': None, 'prompt_cache_hit_tokens': 896, 'prompt_cache_miss_tokens': 133}, 'model_name': 'deepseek-chat', 'system_fingerprint': 'fp_3a5770e1b4', 'finish_reason': 'stop', 'logprobs': None}, id='run-0761da72-2628-435f-b2e8-5446770fe09f-0', usage_metadata={'input_tokens': 1029, 'output_tokens': 143, 'total_tokens': 1172, 'input_token_details': {}, 'output_token_details': {}}),\n",
    " HumanMessage(content='我的短期目标就是马上有1万元', additional_kwargs={}, response_metadata={}, id='24cdb394-53d5-49d0-91cc-2e3c9763b726'),\n",
    " AIMessage(content='我完全理解你迫切的心情！让我们来制定一个更积极的计划，帮助你尽快实现这个目标。💪\\n\\n首先，我们可以尝试以下方法：\\n1. 列出你目前所有的收入来源和支出，看看是否有可以调整的地方。\\n2. 考虑一些快速创收的方式，比如出售闲置物品、接一些兼职工作，或者利用你的技能提供短期服务。\\n3. 每天花5分钟进行财富可视化练习，想象1万元已经在你账户里的感觉。\\n\\n同时，我觉得现在可能是个好时机来尝试一些个性化的肯定语。要听听看吗？我可以为你生成一些专门针对当前情况的肯定语，帮助你保持积极的心态。😊', additional_kwargs={'refusal': None}, response_metadata={'token_usage': {'completion_tokens': 136, 'prompt_tokens': 1183, 'total_tokens': 1319, 'completion_tokens_details': None, 'prompt_tokens_details': None, 'prompt_cache_hit_tokens': 1024, 'prompt_cache_miss_tokens': 159}, 'model_name': 'deepseek-chat', 'system_fingerprint': 'fp_3a5770e1b4', 'finish_reason': 'stop', 'logprobs': None}, id='run-2c1d165f-5d5e-4d60-92dd-77eb082cab9e-0', usage_metadata={'input_tokens': 1183, 'output_tokens': 136, 'total_tokens': 1319, 'input_token_details': {}, 'output_token_details': {}})]"
   ]
  },
  {
   "cell_type": "code",
   "execution_count": 13,
   "metadata": {},
   "outputs": [
    {
     "name": "stdout",
     "output_type": "stream",
     "text": [
      "insight core_needs='1. 解决经济压力问题\\n2. 实现短期财务目标（1万元）\\n3. 获得情感支持和鼓励' emotional_state=['焦虑', '沮丧'] key_issues=['经济压力大', '担心无法偿还账单', '迫切希望实现短期财务目标', '需要情感支持和鼓励'] suggested_affirmation_count=5\n"
     ]
    },
    {
     "data": {
      "text/plain": [
       "{'messages': [],\n",
       " 'route': 'affirmation',\n",
       " 'log': [],\n",
       " 'local_route': 'generator_node',\n",
       " 'success': True,\n",
       " 'data': {'affirmations': ['我的账户里现在就有1万元的现金，我感到无比安心和满足。',\n",
       "   '财富源源不断地流入我的生活，我轻松地偿还所有账单。',\n",
       "   '我每天都在吸引新的赚钱机会，我的财务状况越来越好。',\n",
       "   '我拥有无限的财富创造力，1万元只是我财富旅程的开始。',\n",
       "   '我感激现在拥有的每一分钱，它们为我带来更多的财富和机会。']}}"
      ]
     },
     "execution_count": 13,
     "metadata": {},
     "output_type": "execute_result"
    }
   ],
   "source": [
    "affirmation_graph.invoke(NodeResult(messages=messages))"
   ]
  },
  {
   "cell_type": "code",
   "execution_count": null,
   "metadata": {},
   "outputs": [],
   "source": []
  }
 ],
 "metadata": {
  "kernelspec": {
   "display_name": "manifest_app",
   "language": "python",
   "name": "python3"
  },
  "language_info": {
   "codemirror_mode": {
    "name": "ipython",
    "version": 3
   },
   "file_extension": ".py",
   "mimetype": "text/x-python",
   "name": "python",
   "nbconvert_exporter": "python",
   "pygments_lexer": "ipython3",
   "version": "3.11.11"
  }
 },
 "nbformat": 4,
 "nbformat_minor": 2
}
