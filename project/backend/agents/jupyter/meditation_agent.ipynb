{
 "cells": [
  {
   "cell_type": "code",
   "execution_count": 1,
   "metadata": {},
   "outputs": [
    {
     "data": {
      "text/plain": [
       "True"
      ]
     },
     "execution_count": 1,
     "metadata": {},
     "output_type": "execute_result"
    }
   ],
   "source": [
    "import sys\n",
    "\n",
    "sys.path.append('/root/autodl-tmp/I-AM/project/backend/agents')\n",
    "\n",
    "from langchain_openai import ChatOpenAI\n",
    "from langchain_core.messages import AIMessage, HumanMessage, SystemMessage, ToolMessage\n",
    "from langchain_core.prompts import ChatPromptTemplate, MessagesPlaceholder\n",
    "# from langchain_core.runnables import Runnable, RunnableConfig\n",
    "# from langgraph.checkpoint.memory import MemorySaver\n",
    "from langgraph.graph import StateGraph, START, END\n",
    "from langgraph.graph.message import AnyMessage, add_messages\n",
    "from typing import List, Optional, Dict, Any, Literal\n",
    "from pydantic import BaseModel, Field, ConfigDict, field_validator\n",
    "import json\n",
    "import yaml\n",
    "from datetime import datetime\n",
    "import os\n",
    "from dotenv import load_dotenv\n",
    "\n",
    "load_dotenv()"
   ]
  },
  {
   "cell_type": "code",
   "execution_count": 2,
   "metadata": {},
   "outputs": [],
   "source": [
    "with open('/root/autodl-tmp/I-AM/project/backend/config/meditation.yaml', 'r') as f:\n",
    "    config = yaml.safe_load(f)"
   ]
  },
  {
   "cell_type": "code",
   "execution_count": 3,
   "metadata": {},
   "outputs": [],
   "source": [
    "\n",
    "llm = ChatOpenAI(model=\"deepseek-chat\", openai_api_key=os.getenv(\"DEEPSEEK_API_KEY\"), openai_api_base='https://api.deepseek.com')"
   ]
  },
  {
   "cell_type": "code",
   "execution_count": 4,
   "metadata": {},
   "outputs": [],
   "source": [
    "def add_log(current_log, new_log: str) -> list[str]:\n",
    "    if current_log is None:\n",
    "        return [new_log]\n",
    "    elif isinstance(current_log, list):\n",
    "        return current_log + [new_log]\n",
    "    elif isinstance(current_log, str):\n",
    "        return [current_log, new_log]\n",
    "    else:\n",
    "        return [new_log]\n",
    "\n",
    "class OverallState(BaseModel):\n",
    "    model_config = ConfigDict(arbitrary_types_allowed=True)\n",
    "\n",
    "    messages: List[AnyMessage] = Field(default_factory=list, title=\"对话列表\")\n",
    "    route: Literal[\"diary\", \"meditation\", \"normal_chat\"] = Field(default=\"normal_chat\", title=\"当前路由\")\n",
    "    log: List[str] = Field(default_factory=list, title=\"日志列表\")\n",
    "\n",
    "    @field_validator('log', mode='before')\n",
    "    def validate_log(cls, v, info):\n",
    "        if v is None or (isinstance(v, list) and len(v) == 0):\n",
    "            return []\n",
    "        if 'log' in info.data:\n",
    "            return add_log(info.data['log'], v)\n",
    "        return [v] if isinstance(v ,str) else v\n",
    "        \n",
    "\n",
    "    @field_validator('messages', mode='before')\n",
    "    def validate_messages(cls, v, info):\n",
    "        if 'messages' in info.data:\n",
    "            return add_messages(info.data['messages'], v)\n",
    "        else:\n",
    "            return v if isinstance(v, list) else [v]"
   ]
  },
  {
   "cell_type": "markdown",
   "metadata": {},
   "source": [
    "## 统一的结果状态类"
   ]
  },
  {
   "cell_type": "code",
   "execution_count": 5,
   "metadata": {},
   "outputs": [],
   "source": [
    "class NodeResult(OverallState):\n",
    "    success: bool = Field(default=True, title=\"执行状态\")\n",
    "    data: Optional[Dict[str, Any]] = Field(default=None, title=\"详细传递数据\")\n",
    "    error: Optional[str] = Field(default=None, title=\"错误信息\")"
   ]
  },
  {
   "cell_type": "markdown",
   "metadata": {},
   "source": [
    "## Outline Node"
   ]
  },
  {
   "cell_type": "code",
   "execution_count": 6,
   "metadata": {},
   "outputs": [],
   "source": [
    "# 定义用户上下文模型\n",
    "class UserContext(BaseModel):\n",
    "    main_goal: str = Field(..., title=\"用户的主要目标或困扰\")\n",
    "    current_state: str = Field(..., title=\"当前的情绪状态\")\n",
    "    desired_outcome: str = Field(..., title=\"期望达到的效果\")\n",
    "\n",
    "# 定义脚本段落模型\n",
    "class ScriptSegment(BaseModel):\n",
    "    focus: str = Field(..., title=\"段落主题焦点\")\n",
    "    content_brief: str = Field(..., title=\"内容简要提示\")\n",
    "\n",
    "# 定义主体引导模型\n",
    "class MainGuidance(BaseModel):\n",
    "    segments: List[ScriptSegment] = Field(..., title=\"主体引导的段落列表\")\n",
    "\n",
    "# 定义完整脚本结构\n",
    "class ScriptStructure(BaseModel):\n",
    "    opening: ScriptSegment = Field(..., title=\"开场部分\")\n",
    "    main_guidance: MainGuidance = Field(..., title=\"主体引导部分\")\n",
    "    closing: ScriptSegment = Field(..., title=\"结束部分\")\n",
    "\n",
    "# 定义完整冥想脚本大纲\n",
    "class MeditationOutline(BaseModel):\n",
    "    user_context: UserContext = Field(..., title=\"用户背景信息\")\n",
    "    script_structure: ScriptStructure = Field(..., title=\"脚本结构\")\n",
    "\n",
    "    @property\n",
    "    def as_str(self) -> str:\n",
    "        # 构建用户上下文字符串\n",
    "        context = (\n",
    "            f\"# 用户背景\\n\\n\"\n",
    "            f\"- 主要目标：{self.user_context.main_goal}\\n\"\n",
    "            f\"- 当前状态：{self.user_context.current_state}\\n\"\n",
    "            f\"- 期望效果：{self.user_context.desired_outcome}\\n\\n\"\n",
    "        )\n",
    "        \n",
    "        # 构建脚本结构字符串\n",
    "        script = (\n",
    "            f\"# 冥想引导词大纲\\n\\n\"\n",
    "            f\"## 开场部分\\n\"\n",
    "            f\"主题：{self.script_structure.opening.focus}\\n\"\n",
    "            f\"内容：{self.script_structure.opening.content_brief}\\n\\n\"\n",
    "            f\"## 主体引导\\n\"\n",
    "        )\n",
    "        \n",
    "        # 添加主体引导的每个段落\n",
    "        for i, segment in enumerate(self.script_structure.main_guidance.segments, 1):\n",
    "            script += f\"### 第{i}段\\n主题：{segment.focus}\\n内容：{segment.content_brief}\\n\\n\"\n",
    "        \n",
    "        # 添加结束部分\n",
    "        script += (\n",
    "            f\"## 结束部分\\n\"\n",
    "            f\"主题：{self.script_structure.closing.focus}\\n\"\n",
    "            f\"内容：{self.script_structure.closing.content_brief}\"\n",
    "        )\n",
    "        \n",
    "        return context + script\n",
    "\n",
    "with open(config['prompts']['outline'], 'r', encoding='utf-8') as f:\n",
    "    MEDITATION_OUTLINE_PROMPT = f.read()\n",
    "\n",
    "\n",
    "def create_meditation_outline(state: NodeResult) -> NodeResult:\n",
    "    try:\n",
    "        conversation_content = \"\"\n",
    "        for message in state.messages:\n",
    "            if isinstance(message, HumanMessage):\n",
    "                conversation_content += f\"user: {message.content}\\n\"\n",
    "            elif isinstance(message, AIMessage):\n",
    "                conversation_content += f\"assistant: {message.content}\\n\"\n",
    "            else:\n",
    "                continue\n",
    "        meditation_outline_prompt = ChatPromptTemplate([\n",
    "            (\"system\", MEDITATION_OUTLINE_PROMPT),  # 使用你已有的提示词\n",
    "            (\"user\", \"{conversation_content}\")\n",
    "        ])\n",
    "        generate_meditation_outline = meditation_outline_prompt | llm.with_structured_output(MeditationOutline)\n",
    "        outline = generate_meditation_outline.invoke({\"conversation_content\": conversation_content})\n",
    "\n",
    "        print(\"大纲已生成\")\n",
    "        \n",
    "        return NodeResult(data={\"outline\": outline.as_str})\n",
    "    except Exception as e:\n",
    "        return NodeResult(success=False, error=str(e))"
   ]
  },
  {
   "cell_type": "markdown",
   "metadata": {},
   "source": [
    "## Script Node"
   ]
  },
  {
   "cell_type": "code",
   "execution_count": 7,
   "metadata": {},
   "outputs": [],
   "source": [
    "\n",
    "class MeditationScript(BaseModel):\n",
    "    sequences: List[str] = Field(..., title=\"引导词序列\")\n",
    "\n",
    "    @property\n",
    "    def as_str(self) -> str:\n",
    "        return \"\\n\\n\".join(\n",
    "            f\"text: {item}\"\n",
    "            for item in self.sequences\n",
    "        )\n",
    "\n",
    "    @property\n",
    "    def as_yaml(self) -> str:\n",
    "        return \"sequences:\\n\" + \"\\n\".join(\n",
    "            f\"id: {idx}\\ntext: {item}\"\n",
    "            for idx, item in enumerate(self.sequences)\n",
    "        )\n",
    "\n",
    "with open(config['prompts']['script'], 'r', encoding='utf-8') as f:\n",
    "    MEDITATION_SCRIPT_PROMPT = f.read()\n",
    "\n",
    "\n",
    "def create_meditation_script(state: NodeResult) -> NodeResult:\n",
    "    try:\n",
    "        script_prompt = ChatPromptTemplate.from_messages([\n",
    "            (\"system\", MEDITATION_SCRIPT_PROMPT),\n",
    "            (\"user\", \"\"\"请根据以下冥想大纲生成详细的引导词：\n",
    "\n",
    "        {outline}\"\"\")\n",
    "        ])\n",
    "        generate_meditation_script = script_prompt | llm.with_structured_output(MeditationScript)\n",
    "        script = generate_meditation_script.invoke({\"outline\": state.data['outline']})\n",
    "\n",
    "        print(\"脚本已生成\")\n",
    "        \n",
    "        return NodeResult(data={\"script\": script.as_str})\n",
    "    except Exception as e:\n",
    "        return NodeResult(success=False, error=str(e))\n"
   ]
  },
  {
   "cell_type": "markdown",
   "metadata": {},
   "source": [
    "## Tone Marking Node"
   ]
  },
  {
   "cell_type": "code",
   "execution_count": 8,
   "metadata": {},
   "outputs": [],
   "source": [
    "\n",
    "# 定义带标记的文本段落\n",
    "class MarkedSequence(BaseModel):\n",
    "    original_text: str = Field(..., title=\"原始文本\")\n",
    "    marked_text: str = Field(..., title=\"带标记的文本\")\n",
    "    duration: int = Field(..., title=\"持续时间（秒）\", ge=2, le=6)\n",
    "\n",
    "# 定义完整的带标记冥想脚本\n",
    "class MarkedMeditationScript(BaseModel):\n",
    "    sequences: List[MarkedSequence] = Field(..., title=\"带标记的引导词序列\")\n",
    "\n",
    "    @property\n",
    "    def as_str(self) -> str:\n",
    "        return \"\\n\\n\".join(\n",
    "            f\"id: {idx}\\ntext: {item.marked_text}\\nduration: {item.duration}\"\n",
    "            for idx, item in enumerate(self.sequences)\n",
    "        )\n",
    "    \n",
    "    @property\n",
    "    def as_yaml(self) -> str:\n",
    "        return \"sequences:\\n\" + \"\\n\".join(\n",
    "            f\"id: {idx}\\ntext: \\\"{item.marked_text}\\\"\\nduration: {item.duration}\"\n",
    "            for idx, item in enumerate(self.sequences)\n",
    "        )\n",
    "\n",
    "    def to_yaml_dict(self) -> dict:\n",
    "        return {\n",
    "            \"sequences\": [\n",
    "                {\n",
    "                    \"id\": idx,\n",
    "                    \"text\": item.marked_text,\n",
    "                    \"duration\": item.duration\n",
    "                }\n",
    "                for idx, item in enumerate(self.sequences)\n",
    "            ]\n",
    "        }\n",
    "\n",
    "with open(config['prompts']['tone'], 'r', encoding='utf-8') as f:\n",
    "    MEDITATION_TONE_PROMPT = f.read()\n",
    "\n",
    "\n",
    "\n",
    "def create_marked_meditation_script(state: NodeResult) -> NodeResult:\n",
    "    try:\n",
    "        tone_marking_prompt = ChatPromptTemplate.from_messages([\n",
    "            (\"system\", MEDITATION_TONE_PROMPT),\n",
    "            (\"user\", \"请为以下冥想引导词添加适当的语气标记：\\n\\n{script}\")\n",
    "        ])\n",
    "        generate_marked_script = tone_marking_prompt | llm.with_structured_output(MarkedMeditationScript)\n",
    "        marked_script = generate_marked_script.invoke({\"script\": state.data['script']})\n",
    "        with open('output/script/exam.yaml', 'w', encoding='utf-8') as f:\n",
    "            yaml.dump(marked_script.to_yaml_dict(), f, indent=2, allow_unicode=True, sort_keys=False)\n",
    "\n",
    "        print(\"带标记的脚本已生成\")\n",
    "        \n",
    "        return NodeResult(data=marked_script.to_yaml_dict())\n",
    "    except Exception as e:\n",
    "        return NodeResult(success=False, error=str(e))\n",
    "\n"
   ]
  },
  {
   "cell_type": "markdown",
   "metadata": {},
   "source": [
    "## tts Node"
   ]
  },
  {
   "cell_type": "code",
   "execution_count": 9,
   "metadata": {},
   "outputs": [
    {
     "name": "stderr",
     "output_type": "stream",
     "text": [
      "2025-01-15 11:28:39,025 - modelscope - INFO - PyTorch version 2.5.1 Found.\n",
      "2025-01-15 11:28:39,029 - modelscope - INFO - Loading ast index from /root/.cache/modelscope/ast_indexer\n",
      "2025-01-15 11:28:39,082 - modelscope - INFO - Loading done! Current index file version is 1.15.0, with md5 2f5eeacd95c207bb2bc0f708cda0b4fd and a total number of 980 components indexed\n",
      "/root/miniconda3/envs/manifest_app/lib/python3.11/site-packages/tqdm/auto.py:21: TqdmWarning: IProgress not found. Please update jupyter and ipywidgets. See https://ipywidgets.readthedocs.io/en/stable/user_install.html\n",
      "  from .autonotebook import tqdm as notebook_tqdm\n"
     ]
    },
    {
     "name": "stdout",
     "output_type": "stream",
     "text": [
      "failed to import ttsfrd, use WeTextProcessing instead\n"
     ]
    }
   ],
   "source": [
    "from meditation_tts import CosyVoice2TTS\n",
    "\n",
    "def create_tts(state: NodeResult) -> NodeResult:\n",
    "    try:\n",
    "        timestamp = datetime.now().strftime(\"%Y%m%d%H%M%S\")\n",
    "        output_path = f\"{config['tts']['tts_output_path']}/{timestamp}.wav\"\n",
    "        tts = CosyVoice2TTS(\n",
    "            model_path=config['tts']['tts_model_path'],\n",
    "            prompts_config_path=config['tts']['tts_resources_config']\n",
    "        )\n",
    "        tts.generate_audio(\n",
    "            texts=state.data,\n",
    "            voice_type=\"female1\",\n",
    "            background_music_type=\"bmusic_02\",\n",
    "            output_path=output_path\n",
    "        )  \n",
    "\n",
    "        print(\"音频已生成\")\n",
    "        \n",
    "        return NodeResult(route=\"meditation\", log=f\"音频已生成. path: {output_path}\")\n",
    "    except Exception as e:\n",
    "        return NodeResult(success=False, error=str(e))\n"
   ]
  },
  {
   "cell_type": "markdown",
   "metadata": {},
   "source": [
    "## 错误处理节点"
   ]
  },
  {
   "cell_type": "code",
   "execution_count": 10,
   "metadata": {},
   "outputs": [],
   "source": [
    "def handle_error(state: NodeResult) -> NodeResult:  # 修改返回类型标注\n",
    "    error_msg = state.error\n",
    "    print(f\"处理错误: {error_msg}\")\n",
    "    # 返回正确的 NodeResult 对象\n",
    "    return NodeResult(\n",
    "        success=False,\n",
    "        error=error_msg,\n",
    "        data={\"error_message\": f\"处理错误: {error_msg}\"}\n",
    "    )"
   ]
  },
  {
   "cell_type": "markdown",
   "metadata": {},
   "source": [
    "## 条件边判断"
   ]
  },
  {
   "cell_type": "code",
   "execution_count": 11,
   "metadata": {},
   "outputs": [],
   "source": [
    "def check_success(state: NodeResult):\n",
    "    if state.success:\n",
    "        return \"success_node\"\n",
    "    else:\n",
    "        return \"error_node\"\n"
   ]
  },
  {
   "cell_type": "code",
   "execution_count": 12,
   "metadata": {},
   "outputs": [],
   "source": [
    "meditation_workflow = StateGraph(NodeResult)\n",
    "meditation_workflow.add_node(\"outline_node\", create_meditation_outline)\n",
    "meditation_workflow.add_node(\"script_node\", create_meditation_script)\n",
    "meditation_workflow.add_node(\"tone_marking_node\", create_marked_meditation_script)\n",
    "meditation_workflow.add_node(\"tts_node\", create_tts)\n",
    "meditation_workflow.add_node(\"error_node\", handle_error)\n",
    "\n",
    "meditation_workflow.add_conditional_edges(\n",
    "    \"outline_node\",\n",
    "    check_success,\n",
    "    {\n",
    "        \"success_node\": \"script_node\",\n",
    "        \"error_node\": \"error_node\"\n",
    "    }\n",
    ")\n",
    "\n",
    "meditation_workflow.add_conditional_edges(\n",
    "        \"script_node\",\n",
    "        check_success,\n",
    "        {\n",
    "            \"success_node\": \"tone_marking_node\",\n",
    "            \"error_node\": \"error_node\"\n",
    "        }\n",
    "    )\n",
    "    \n",
    "meditation_workflow.add_conditional_edges(\n",
    "    \"tone_marking_node\",\n",
    "    check_success,\n",
    "    {\n",
    "        \"success_node\": \"tts_node\",\n",
    "        \"error_node\": \"error_node\"\n",
    "    }\n",
    ")\n",
    "\n",
    "meditation_workflow.add_conditional_edges(\n",
    "    \"tts_node\",\n",
    "    check_success,\n",
    "    {\n",
    "        \"success_node\": END,\n",
    "        \"error_node\": \"error_node\"\n",
    "    }\n",
    ")\n",
    "meditation_workflow.add_edge(START, \"outline_node\")\n",
    "meditation_workflow.add_edge(\"error_node\", END)\n",
    "\n",
    "meditation_graph = meditation_workflow.compile()"
   ]
  },
  {
   "cell_type": "code",
   "execution_count": 13,
   "metadata": {},
   "outputs": [
    {
     "name": "stderr",
     "output_type": "stream",
     "text": [
      "2025-01-15 11:28:51,452 DEBUG Starting new HTTPS connection (1): mermaid.ink:443\n",
      "2025-01-15 11:28:52,089 DEBUG https://mermaid.ink:443 \"GET /img/JSV7aW5pdDogeydmbG93Y2hhcnQnOiB7J2N1cnZlJzogJ2xpbmVhcid9fX0lJQpncmFwaCBURDsKCV9fc3RhcnRfXyhbPHA+X19zdGFydF9fPC9wPl0pOjo6Zmlyc3QKCW91dGxpbmVfbm9kZShvdXRsaW5lX25vZGUpCglzY3JpcHRfbm9kZShzY3JpcHRfbm9kZSkKCXRvbmVfbWFya2luZ19ub2RlKHRvbmVfbWFya2luZ19ub2RlKQoJdHRzX25vZGUodHRzX25vZGUpCgllcnJvcl9ub2RlKGVycm9yX25vZGUpCglfX2VuZF9fKFs8cD5fX2VuZF9fPC9wPl0pOjo6bGFzdAoJX19zdGFydF9fIC0tPiBvdXRsaW5lX25vZGU7CgllcnJvcl9ub2RlIC0tPiBfX2VuZF9fOwoJb3V0bGluZV9ub2RlIC0uICZuYnNwO3N1Y2Nlc3Nfbm9kZSZuYnNwOyAuLT4gc2NyaXB0X25vZGU7CglvdXRsaW5lX25vZGUgLS4tPiBlcnJvcl9ub2RlOwoJc2NyaXB0X25vZGUgLS4gJm5ic3A7c3VjY2Vzc19ub2RlJm5ic3A7IC4tPiB0b25lX21hcmtpbmdfbm9kZTsKCXNjcmlwdF9ub2RlIC0uLT4gZXJyb3Jfbm9kZTsKCXRvbmVfbWFya2luZ19ub2RlIC0uICZuYnNwO3N1Y2Nlc3Nfbm9kZSZuYnNwOyAuLT4gdHRzX25vZGU7Cgl0b25lX21hcmtpbmdfbm9kZSAtLi0+IGVycm9yX25vZGU7Cgl0dHNfbm9kZSAtLiAmbmJzcDtzdWNjZXNzX25vZGUmbmJzcDsgLi0+IF9fZW5kX187Cgl0dHNfbm9kZSAtLi0+IGVycm9yX25vZGU7CgljbGFzc0RlZiBkZWZhdWx0IGZpbGw6I2YyZjBmZixsaW5lLWhlaWdodDoxLjIKCWNsYXNzRGVmIGZpcnN0IGZpbGwtb3BhY2l0eTowCgljbGFzc0RlZiBsYXN0IGZpbGw6I2JmYjZmYwo=?type=png&bgColor=!white HTTP/11\" 200 34217\n"
     ]
    },
    {
     "data": {
      "image/png": "[encoded data removed]",
      "text/plain": [
       "<IPython.core.display.Image object>"
      ]
     },
     "metadata": {},
     "output_type": "display_data"
    }
   ],
   "source": [
    "from IPython.display import Image, display\n",
    "\n",
    "# Setting xray to 1 will show the internal structure of the nested graph\n",
    "display(Image(meditation_graph.get_graph(xray=2).draw_mermaid_png()))"
   ]
  },
  {
   "cell_type": "code",
   "execution_count": 14,
   "metadata": {},
   "outputs": [
    {
     "name": "stderr",
     "output_type": "stream",
     "text": [
      "2025-01-15 11:28:54,184 DEBUG Request options: {'method': 'post', 'url': '/chat/completions', 'files': None, 'json_data': {'messages': [{'content': '你是一位专业的冥想引导师，现在需要你根据用户的对话内容，生成一个冥想引导词的结构化大纲。\\n\\n请遵循以下要求：\\n1. 分析用户对话中的以下关键信息：\\n   - 用户的主要困扰或目标\\n   - 当前的情绪状态\\n   - 期望达到的效果\\n   - 偏好的冥想时长（如未指定，默认为5分钟）\\n\\n2. 生成一个 JSON 格式的冥想脚本大纲，包含以下结构：\\n   - 用户背景信息 (user_context)\\n   - 脚本结构 (script_structure)，包含：\\n     * 开场部分 (opening)：帮助用户进入状态\\n     * 主体引导 (main_guidance)：2-4个重点段落\\n     * 结束部分 (closing)：帮助用户回到当下\\n\\n3. 每个部分都需要包含：\\n   - 段落主题焦点\\n   - 简要内容提示\\n\\n请根据用户的对话内容，生成一个适合的冥想引导大纲。', 'role': 'system'}, {'content': 'user: 想要一个2分钟鼓励我，让我充满自信的音频\\n', 'role': 'user'}], 'model': 'deepseek-chat', 'n': 1, 'parallel_tool_calls': False, 'stream': False, 'temperature': 0.7, 'tool_choice': {'type': 'function', 'function': {'name': 'MeditationOutline'}}, 'tools': [{'type': 'function', 'function': {'name': 'MeditationOutline', 'description': '', 'parameters': {'properties': {'user_context': {'allOf': [{'properties': {'main_goal': {'title': '用户的主要目标或困扰', 'type': 'string'}, 'current_state': {'title': '当前的情绪状态', 'type': 'string'}, 'desired_outcome': {'title': '期望达到的效果', 'type': 'string'}}, 'required': ['main_goal', 'current_state', 'desired_outcome'], 'title': 'UserContext', 'type': 'object'}]}, 'script_structure': {'allOf': [{'properties': {'opening': {'allOf': [{'properties': {'focus': {'title': '段落主题焦点', 'type': 'string'}, 'content_brief': {'title': '内容简要提示', 'type': 'string'}}, 'required': ['focus', 'content_brief'], 'title': 'ScriptSegment', 'type': 'object'}], 'title': '开场部分'}, 'main_guidance': {'allOf': [{'properties': {'segments': {'items': {'properties': {'focus': {'title': '段落主题焦点', 'type': 'string'}, 'content_brief': {'title': '内容简要提示', 'type': 'string'}}, 'required': ['focus', 'content_brief'], 'title': 'ScriptSegment', 'type': 'object'}, 'title': '主体引导的段落列表', 'type': 'array'}}, 'required': ['segments'], 'title': 'MainGuidance', 'type': 'object'}], 'title': '主体引导部分'}, 'closing': {'allOf': [{'properties': {'focus': {'title': '段落主题焦点', 'type': 'string'}, 'content_brief': {'title': '内容简要提示', 'type': 'string'}}, 'required': ['focus', 'content_brief'], 'title': 'ScriptSegment', 'type': 'object'}], 'title': '结束部分'}}, 'required': ['opening', 'main_guidance', 'closing'], 'title': 'ScriptStructure', 'type': 'object'}]}}, 'required': ['user_context', 'script_structure'], 'type': 'object'}}}]}}\n",
      "2025-01-15 11:28:54,188 DEBUG Sending HTTP Request: POST https://api.deepseek.com/chat/completions\n",
      "2025-01-15 11:28:54,189 DEBUG connect_tcp.started host='api.deepseek.com' port=443 local_address=None timeout=None socket_options=None\n",
      "2025-01-15 11:28:54,252 DEBUG connect_tcp.complete return_value=<httpcore._backends.sync.SyncStream object at 0x7f3819bdfa10>\n",
      "2025-01-15 11:28:54,253 DEBUG start_tls.started ssl_context=<ssl.SSLContext object at 0x7f38fe731c70> server_hostname='api.deepseek.com' timeout=None\n",
      "2025-01-15 11:28:54,298 DEBUG start_tls.complete return_value=<httpcore._backends.sync.SyncStream object at 0x7f3819e1a710>\n",
      "2025-01-15 11:28:54,300 DEBUG send_request_headers.started request=<Request [b'POST']>\n",
      "2025-01-15 11:28:54,302 DEBUG send_request_headers.complete\n",
      "2025-01-15 11:28:54,303 DEBUG send_request_body.started request=<Request [b'POST']>\n",
      "2025-01-15 11:28:54,305 DEBUG send_request_body.complete\n",
      "2025-01-15 11:28:54,306 DEBUG receive_response_headers.started request=<Request [b'POST']>\n",
      "2025-01-15 11:28:54,426 DEBUG receive_response_headers.complete return_value=(b'HTTP/1.1', 200, b'OK', [(b'Server', b'nginx'), (b'Date', b'Wed, 15 Jan 2025 03:28:54 GMT'), (b'Content-Type', b'application/json'), (b'Transfer-Encoding', b'chunked'), (b'Connection', b'keep-alive'), (b'Set-Cookie', b'HWWAFSESTIME=1736911733616; path=/'), (b'Set-Cookie', b'HWWAFSESID=6099a190b593ef6ad8f; path=/'), (b'vary', b'origin, access-control-request-method, access-control-request-headers'), (b'access-control-allow-credentials', b'true'), (b'x-ds-trace-id', b'47441c056add63c81d2747b5fa9f56ba'), (b'Strict-Transport-Security', b'max-age=31536000; includeSubDomains; preload'), (b'X-Content-Type-Options', b'nosniff')])\n",
      "2025-01-15 11:28:54,429 INFO HTTP Request: POST https://api.deepseek.com/chat/completions \"HTTP/1.1 200 OK\"\n",
      "2025-01-15 11:28:54,431 DEBUG receive_response_body.started request=<Request [b'POST']>\n",
      "2025-01-15 11:28:58,399 DEBUG receive_response_body.complete\n",
      "2025-01-15 11:28:58,401 DEBUG response_closed.started\n",
      "2025-01-15 11:28:58,402 DEBUG response_closed.complete\n",
      "2025-01-15 11:28:58,404 DEBUG HTTP Response: POST https://api.deepseek.com/chat/completions \"200 OK\" Headers([('server', 'nginx'), ('date', 'Wed, 15 Jan 2025 03:28:54 GMT'), ('content-type', 'application/json'), ('transfer-encoding', 'chunked'), ('connection', 'keep-alive'), ('set-cookie', 'HWWAFSESTIME=1736911733616; path=/'), ('set-cookie', 'HWWAFSESID=6099a190b593ef6ad8f; path=/'), ('vary', 'origin, access-control-request-method, access-control-request-headers'), ('access-control-allow-credentials', 'true'), ('x-ds-trace-id', '47441c056add63c81d2747b5fa9f56ba'), ('strict-transport-security', 'max-age=31536000; includeSubDomains; preload'), ('x-content-type-options', 'nosniff')])\n",
      "2025-01-15 11:28:58,406 DEBUG request_id: None\n",
      "2025-01-15 11:28:58,481 DEBUG Request options: {'method': 'post', 'url': '/chat/completions', 'files': None, 'json_data': {'messages': [{'content': '你是一位专业的冥想引导词创作者。请根据提供的冥想大纲，生成详细的引导词脚本。\\n\\n要求：\\n   - 每句话的字符个数必须控制在60-80个字符之间\\n   - 语气要柔和、平静、富有引导性\\n   - 使用简单、清晰的描述\\n\\n注意事项：\\n1. 根据冥想主题和目标调整语言风格\\n2. 合理安排停顿时长，通常在2-6秒之间\\n3. 确保引导词的节奏缓慢、平稳\\n4. 适当使用意象和比喻来加深体验\\n5. 在关键转折处添加更长的停顿\\n6. 确保每个部分（开场、主体、结束）的引导词风格连贯\\n\\n请根据提供的冥想大纲，生成一个完整的引导词脚本。脚本应该能够自然流畅地引导用户完成整个冥想过程。', 'role': 'system'}, {'content': \"请根据以下冥想大纲生成详细的引导词：\\n\\n        # 用户背景\\n\\n- 主要目标：增强自信\\n- 当前状态：需要鼓励\\n- 期望效果：充满自信\\n\\n# 冥想引导词大纲\\n\\n## 开场部分\\n主题：放松身心，进入冥想状态\\n内容：深呼吸，放松身体，闭上眼睛，专注于呼吸\\n\\n## 主体引导\\n### 第1段\\n主题：自我肯定\\n内容：重复积极的自我肯定语句，如'我充满自信'、'我有能力应对任何挑战'\\n\\n### 第2段\\n主题：想象成功\\n内容：想象自己成功完成目标的场景，感受自信和满足\\n\\n## 结束部分\\n主题：回到当下，保持自信\\n内容：慢慢睁开眼睛，带着自信回到当下\", 'role': 'user'}], 'model': 'deepseek-chat', 'n': 1, 'parallel_tool_calls': False, 'stream': False, 'temperature': 0.7, 'tool_choice': {'type': 'function', 'function': {'name': 'MeditationScript'}}, 'tools': [{'type': 'function', 'function': {'name': 'MeditationScript', 'description': '', 'parameters': {'properties': {'sequences': {'items': {'type': 'string'}, 'type': 'array'}}, 'required': ['sequences'], 'type': 'object'}}}]}}\n",
      "2025-01-15 11:28:58,483 DEBUG Sending HTTP Request: POST https://api.deepseek.com/chat/completions\n",
      "2025-01-15 11:28:58,485 DEBUG send_request_headers.started request=<Request [b'POST']>\n",
      "2025-01-15 11:28:58,487 DEBUG send_request_headers.complete\n",
      "2025-01-15 11:28:58,488 DEBUG send_request_body.started request=<Request [b'POST']>\n",
      "2025-01-15 11:28:58,490 DEBUG send_request_body.complete\n",
      "2025-01-15 11:28:58,492 DEBUG receive_response_headers.started request=<Request [b'POST']>\n",
      "2025-01-15 11:28:58,581 DEBUG receive_response_headers.complete return_value=(b'HTTP/1.1', 200, b'OK', [(b'Server', b'nginx'), (b'Date', b'Wed, 15 Jan 2025 03:28:58 GMT'), (b'Content-Type', b'application/json'), (b'Transfer-Encoding', b'chunked'), (b'Connection', b'keep-alive'), (b'vary', b'origin, access-control-request-method, access-control-request-headers'), (b'access-control-allow-credentials', b'true'), (b'x-ds-trace-id', b'ce5d1edacf1b4b6effc4ae599b72712a'), (b'Strict-Transport-Security', b'max-age=31536000; includeSubDomains; preload'), (b'X-Content-Type-Options', b'nosniff')])\n",
      "2025-01-15 11:28:58,584 INFO HTTP Request: POST https://api.deepseek.com/chat/completions \"HTTP/1.1 200 OK\"\n",
      "2025-01-15 11:28:58,585 DEBUG receive_response_body.started request=<Request [b'POST']>\n"
     ]
    },
    {
     "name": "stdout",
     "output_type": "stream",
     "text": [
      "大纲已生成\n"
     ]
    },
    {
     "name": "stderr",
     "output_type": "stream",
     "text": [
      "2025-01-15 11:29:04,223 DEBUG receive_response_body.complete\n",
      "2025-01-15 11:29:04,225 DEBUG response_closed.started\n",
      "2025-01-15 11:29:04,227 DEBUG response_closed.complete\n",
      "2025-01-15 11:29:04,228 DEBUG HTTP Response: POST https://api.deepseek.com/chat/completions \"200 OK\" Headers({'server': 'nginx', 'date': 'Wed, 15 Jan 2025 03:28:58 GMT', 'content-type': 'application/json', 'transfer-encoding': 'chunked', 'connection': 'keep-alive', 'vary': 'origin, access-control-request-method, access-control-request-headers', 'access-control-allow-credentials': 'true', 'x-ds-trace-id': 'ce5d1edacf1b4b6effc4ae599b72712a', 'strict-transport-security': 'max-age=31536000; includeSubDomains; preload', 'x-content-type-options': 'nosniff'})\n",
      "2025-01-15 11:29:04,230 DEBUG request_id: None\n",
      "2025-01-15 11:29:04,267 DEBUG Request options: {'method': 'post', 'url': '/chat/completions', 'files': None, 'json_data': {'messages': [{'content': '你是一位专业的冥想引导词编辑，擅长为冥想引导词添加适当的语气标记。\\n\\n请遵循以下规则为冥想引导词添加标记：\\n\\n1. 呼吸标记：\\n   - [breath] - 用于需要深呼吸的位置\\n   - [quick_breath] - 用于快速呼吸的位置\\n   - [sigh] - 用于需要叹息释放的位置\\n\\n2. 强调标记：\\n   - <strong>文字</strong> - 用于需要强调的重要指导语\\n\\n标记使用规则：\\n1. 身体放松引导：\\n   - 描述身体部位放松时，在每个部位后添加 [breath]\\n   - 例如：\"放松你的肩膀[breath]，手臂[breath]，一直到指尖[breath]\"\\n\\n2. 压力释放：\\n   - 在需要释放压力或紧张的时刻，使用 [sigh]\\n   - 例如：\"深深地叹息，释放所有的紧张[sigh]\"\\n\\n3. 重要指导：\\n   - 对关键指导语添加强调标记\\n   - 例如：\"<strong>保持这份觉察</strong>\"\\n\\n请分析每个句子的语境和目的，在恰当的位置添加这些标记，使冥想引导更加自然和有效。确保标记的使用不会打断冥想的流畅性，而是增强引导的效果。', 'role': 'system'}, {'content': \"请为以下冥想引导词添加适当的语气标记：\\n\\ntext: 让我们开始这段增强自信的冥想旅程。请找一个安静舒适的地方坐下。\\n\\ntext: 轻轻闭上眼睛，将注意力集中在你的呼吸上。深吸一口气，感受空气进入你的身体。\\n\\ntext: 慢慢呼气，感受身体的放松。让每一次呼吸都带走你的紧张和焦虑。\\n\\ntext: 现在，将注意力转移到你的身体上。从头顶开始，慢慢放松每一块肌肉。\\n\\ntext: 感受你的肩膀、手臂、胸部和腹部逐渐放松。让整个身体都沉浸在平静中。\\n\\ntext: 接下来，我们将进行自我肯定。请在心里默念：'我充满自信'。\\n\\ntext: 重复这句话：'我有能力应对任何挑战'。感受这些话语带来的力量和信心。\\n\\ntext: 现在，想象自己成功完成了一个重要目标。看到自己自信满满地站在那里。\\n\\ntext: 感受那种自信和满足感充满你的全身。记住这种感觉，它将伴随你每一天。\\n\\ntext: 慢慢地，将注意力带回到你的呼吸上。感受每一次呼吸带来的平静和力量。\\n\\ntext: 当你准备好了，轻轻睁开眼睛。带着这份自信，回到当下。\", 'role': 'user'}], 'model': 'deepseek-chat', 'n': 1, 'parallel_tool_calls': False, 'stream': False, 'temperature': 0.7, 'tool_choice': {'type': 'function', 'function': {'name': 'MarkedMeditationScript'}}, 'tools': [{'type': 'function', 'function': {'name': 'MarkedMeditationScript', 'description': '', 'parameters': {'properties': {'sequences': {'items': {'properties': {'original_text': {'type': 'string'}, 'marked_text': {'type': 'string'}, 'duration': {'maximum': 6, 'minimum': 2, 'type': 'integer'}}, 'required': ['original_text', 'marked_text', 'duration'], 'type': 'object'}, 'type': 'array'}}, 'required': ['sequences'], 'type': 'object'}}}]}}\n",
      "2025-01-15 11:29:04,271 DEBUG Sending HTTP Request: POST https://api.deepseek.com/chat/completions\n",
      "2025-01-15 11:29:04,273 DEBUG send_request_headers.started request=<Request [b'POST']>\n",
      "2025-01-15 11:29:04,275 DEBUG send_request_headers.complete\n",
      "2025-01-15 11:29:04,277 DEBUG send_request_body.started request=<Request [b'POST']>\n",
      "2025-01-15 11:29:04,279 DEBUG send_request_body.complete\n",
      "2025-01-15 11:29:04,280 DEBUG receive_response_headers.started request=<Request [b'POST']>\n",
      "2025-01-15 11:29:04,434 DEBUG receive_response_headers.complete return_value=(b'HTTP/1.1', 200, b'OK', [(b'Server', b'nginx'), (b'Date', b'Wed, 15 Jan 2025 03:29:04 GMT'), (b'Content-Type', b'application/json'), (b'Transfer-Encoding', b'chunked'), (b'Connection', b'keep-alive'), (b'vary', b'origin, access-control-request-method, access-control-request-headers'), (b'access-control-allow-credentials', b'true'), (b'x-ds-trace-id', b'b9e9a2d30204b2471609838e3c8ff666'), (b'Strict-Transport-Security', b'max-age=31536000; includeSubDomains; preload'), (b'X-Content-Type-Options', b'nosniff')])\n",
      "2025-01-15 11:29:04,436 INFO HTTP Request: POST https://api.deepseek.com/chat/completions \"HTTP/1.1 200 OK\"\n",
      "2025-01-15 11:29:04,437 DEBUG receive_response_body.started request=<Request [b'POST']>\n"
     ]
    },
    {
     "name": "stdout",
     "output_type": "stream",
     "text": [
      "脚本已生成\n"
     ]
    },
    {
     "name": "stderr",
     "output_type": "stream",
     "text": [
      "2025-01-15 11:29:17,557 DEBUG receive_response_body.complete\n",
      "2025-01-15 11:29:17,559 DEBUG response_closed.started\n",
      "2025-01-15 11:29:17,560 DEBUG response_closed.complete\n",
      "2025-01-15 11:29:17,562 DEBUG HTTP Response: POST https://api.deepseek.com/chat/completions \"200 OK\" Headers({'server': 'nginx', 'date': 'Wed, 15 Jan 2025 03:29:04 GMT', 'content-type': 'application/json', 'transfer-encoding': 'chunked', 'connection': 'keep-alive', 'vary': 'origin, access-control-request-method, access-control-request-headers', 'access-control-allow-credentials': 'true', 'x-ds-trace-id': 'b9e9a2d30204b2471609838e3c8ff666', 'strict-transport-security': 'max-age=31536000; includeSubDomains; preload', 'x-content-type-options': 'nosniff'})\n",
      "2025-01-15 11:29:17,564 DEBUG request_id: None\n"
     ]
    },
    {
     "name": "stdout",
     "output_type": "stream",
     "text": [
      "带标记的脚本已生成\n"
     ]
    },
    {
     "name": "stderr",
     "output_type": "stream",
     "text": [
      "/root/miniconda3/envs/manifest_app/lib/python3.11/site-packages/diffusers/models/lora.py:393: FutureWarning: `LoRACompatibleLinear` is deprecated and will be removed in version 1.0.0. Use of `LoRACompatibleLinear` is deprecated. Please switch to PEFT backend by installing PEFT: `pip install peft`.\n",
      "  deprecate(\"LoRACompatibleLinear\", \"1.0.0\", deprecation_message)\n",
      "2025-01-15 11:29:31,754 INFO input frame rate=25\n",
      "/root/miniconda3/envs/manifest_app/lib/python3.11/site-packages/torch/nn/utils/weight_norm.py:143: FutureWarning: `torch.nn.utils.weight_norm` is deprecated in favor of `torch.nn.utils.parametrizations.weight_norm`.\n",
      "  WeightNorm.apply(module, name, dim)\n",
      "/root/autodl-tmp/I-AM/CosyVoice/cosyvoice/dataset/processor.py:24: UserWarning: torchaudio._backend.set_audio_backend has been deprecated. With dispatcher enabled, this function is no-op. You can remove the function call.\n",
      "  torchaudio.set_audio_backend('soundfile')\n",
      "Special tokens have been added in the vocabulary, make sure the associated word embeddings are fine-tuned or trained.\n",
      "Special tokens have been added in the vocabulary, make sure the associated word embeddings are fine-tuned or trained.\n",
      "\u001b[1;31m2025-01-15 11:29:35.889585670 [E:onnxruntime:Default, provider_bridge_ort.cc:1744 TryGetProviderInfo_CUDA] /onnxruntime_src/onnxruntime/core/session/provider_bridge_ort.cc:1426 onnxruntime::Provider& onnxruntime::ProviderLibrary::Get() [ONNXRuntimeError] : 1 : FAIL : Failed to load library libonnxruntime_providers_cuda.so with error: libcudnn.so.8: cannot open shared object file: No such file or directory\n",
      "\u001b[m\n",
      "\u001b[0;93m2025-01-15 11:29:35.889603155 [W:onnxruntime:Default, onnxruntime_pybind_state.cc:870 CreateExecutionProviderInstance] Failed to create CUDAExecutionProvider. Please reference https://onnxruntime.ai/docs/execution-providers/CUDA-ExecutionProvider.html#requirementsto ensure all dependencies are met.\u001b[m\n",
      "2025-01-15 11:29:36,605 WETEXT INFO found existing fst: /root/miniconda3/envs/manifest_app/lib/python3.11/site-packages/tn/zh_tn_tagger.fst\n",
      "2025-01-15 11:29:36,605 INFO found existing fst: /root/miniconda3/envs/manifest_app/lib/python3.11/site-packages/tn/zh_tn_tagger.fst\n",
      "2025-01-15 11:29:36,608 WETEXT INFO                     /root/miniconda3/envs/manifest_app/lib/python3.11/site-packages/tn/zh_tn_verbalizer.fst\n",
      "2025-01-15 11:29:36,608 INFO                     /root/miniconda3/envs/manifest_app/lib/python3.11/site-packages/tn/zh_tn_verbalizer.fst\n",
      "2025-01-15 11:29:36,610 WETEXT INFO skip building fst for zh_normalizer ...\n",
      "2025-01-15 11:29:36,610 INFO skip building fst for zh_normalizer ...\n",
      "2025-01-15 11:29:37,206 WETEXT INFO found existing fst: /root/miniconda3/envs/manifest_app/lib/python3.11/site-packages/tn/en_tn_tagger.fst\n",
      "2025-01-15 11:29:37,206 INFO found existing fst: /root/miniconda3/envs/manifest_app/lib/python3.11/site-packages/tn/en_tn_tagger.fst\n",
      "2025-01-15 11:29:37,208 WETEXT INFO                     /root/miniconda3/envs/manifest_app/lib/python3.11/site-packages/tn/en_tn_verbalizer.fst\n",
      "2025-01-15 11:29:37,208 INFO                     /root/miniconda3/envs/manifest_app/lib/python3.11/site-packages/tn/en_tn_verbalizer.fst\n",
      "2025-01-15 11:29:37,210 WETEXT INFO skip building fst for en_normalizer ...\n",
      "2025-01-15 11:29:37,210 INFO skip building fst for en_normalizer ...\n",
      "/root/autodl-tmp/I-AM/CosyVoice/cosyvoice/cli/model.py:291: FutureWarning: You are using `torch.load` with `weights_only=False` (the current default value), which uses the default pickle module implicitly. It is possible to construct malicious pickle data which will execute arbitrary code during unpickling (See https://github.com/pytorch/pytorch/blob/main/SECURITY.md#untrusted-models for more details). In a future release, the default value for `weights_only` will be flipped to `True`. This limits the functions that could be executed during unpickling. Arbitrary objects will no longer be allowed to be loaded via this mode unless they are explicitly allowlisted by the user via `torch.serialization.add_safe_globals`. We recommend you start setting `weights_only=True` for any use case where you don't have full control of the loaded file. Please open an issue on GitHub for any issues related to this experimental feature.\n",
      "  self.llm.load_state_dict(torch.load(llm_model, map_location=self.device), strict=True)\n",
      "/root/autodl-tmp/I-AM/CosyVoice/cosyvoice/cli/model.py:293: FutureWarning: You are using `torch.load` with `weights_only=False` (the current default value), which uses the default pickle module implicitly. It is possible to construct malicious pickle data which will execute arbitrary code during unpickling (See https://github.com/pytorch/pytorch/blob/main/SECURITY.md#untrusted-models for more details). In a future release, the default value for `weights_only` will be flipped to `True`. This limits the functions that could be executed during unpickling. Arbitrary objects will no longer be allowed to be loaded via this mode unless they are explicitly allowlisted by the user via `torch.serialization.add_safe_globals`. We recommend you start setting `weights_only=True` for any use case where you don't have full control of the loaded file. Please open an issue on GitHub for any issues related to this experimental feature.\n",
      "  self.flow.load_state_dict(torch.load(flow_model, map_location=self.device), strict=True)\n",
      "/root/autodl-tmp/I-AM/CosyVoice/cosyvoice/cli/model.py:297: FutureWarning: You are using `torch.load` with `weights_only=False` (the current default value), which uses the default pickle module implicitly. It is possible to construct malicious pickle data which will execute arbitrary code during unpickling (See https://github.com/pytorch/pytorch/blob/main/SECURITY.md#untrusted-models for more details). In a future release, the default value for `weights_only` will be flipped to `True`. This limits the functions that could be executed during unpickling. Arbitrary objects will no longer be allowed to be loaded via this mode unless they are explicitly allowlisted by the user via `torch.serialization.add_safe_globals`. We recommend you start setting `weights_only=True` for any use case where you don't have full control of the loaded file. Please open an issue on GitHub for any issues related to this experimental feature.\n",
      "  hift_state_dict = {k.replace('generator.', ''): v for k, v in torch.load(hift_model, map_location=self.device).items()}\n"
     ]
    },
    {
     "name": "stdout",
     "output_type": "stream",
     "text": [
      "Attempt 1 of 3\n"
     ]
    },
    {
     "name": "stderr",
     "output_type": "stream",
     "text": [
      "Generating audio segments:   0%|          | 0/11 [00:00<?, ?it/s]2025-01-15 11:30:06,579 INFO synthesis text 让我们开始这段<strong>增强自信</strong>的冥想旅程。请找一个安静舒适的地方坐下。\n",
      "2025-01-15 11:30:14,333 INFO yield speech len 9.44, rtf 0.8213912026356843\n",
      "  0%|          | 0/1 [00:09<?, ?it/s]\n",
      "Generating audio segments:   9%|▉         | 1/11 [00:09<01:32,  9.29s/it]2025-01-15 11:30:15,308 INFO synthesis text 轻轻闭上眼睛,将注意力集中在你的呼吸上。深吸一口气[breath],感受空气进入你的身体。\n",
      "2025-01-15 11:30:25,804 INFO yield speech len 11.8, rtf 0.8894966214390124\n",
      "  0%|          | 0/1 [00:11<?, ?it/s]\n",
      "Generating audio segments:  18%|█▊        | 2/11 [00:20<01:35, 10.57s/it]2025-01-15 11:30:27,257 INFO synthesis text 慢慢呼气[breath],感受身体的放松。让每一次呼吸都带走你的紧张和焦虑。\n",
      "2025-01-15 11:30:36,282 INFO yield speech len 10.28, rtf 0.8779953657885007\n",
      "  0%|          | 0/1 [00:10<?, ?it/s]\n",
      "Generating audio segments:  27%|██▋       | 3/11 [00:31<01:24, 10.53s/it]2025-01-15 11:30:37,236 INFO synthesis text 现在,将注意力转移到你的身体上。从头顶开始[breath],慢慢放松每一块肌肉[breath]。\n",
      "2025-01-15 11:30:47,358 INFO yield speech len 10.0, rtf 1.012178659439087\n",
      "  0%|          | 0/1 [00:11<?, ?it/s]\n",
      "Generating audio segments:  36%|███▋      | 4/11 [00:42<01:15, 10.74s/it]2025-01-15 11:30:48,197 INFO synthesis text 感受你的肩膀[breath]、手臂[breath]、胸部[breath]和腹部[breath]逐渐放松。让整个身体都沉浸在平静中。\n",
      "2025-01-15 11:30:55,619 INFO yield speech len 12.52, rtf 0.5927932529022899\n",
      "  0%|          | 0/1 [00:08<?, ?it/s]\n",
      "Generating audio segments:  45%|████▌     | 5/11 [00:50<00:59,  9.85s/it]2025-01-15 11:30:56,486 INFO synthesis text 接下来,我们将进行<strong>自我肯定</strong>。请在心里默念:'我充满自信'。\n",
      "2025-01-15 11:31:02,532 INFO yield speech len 9.36, rtf 0.6459331155842186\n",
      "  0%|          | 0/1 [00:06<?, ?it/s]\n",
      "Generating audio segments:  55%|█████▍    | 6/11 [00:57<00:44,  8.85s/it]2025-01-15 11:31:03,470 INFO synthesis text 重复这句话:'我有能力应对任何挑战'。感受这些话语带来的<strong>力量和信心</strong>。\n",
      "2025-01-15 11:31:10,651 INFO yield speech len 11.56, rtf 0.6211867794446054\n",
      "  0%|          | 0/1 [00:08<?, ?it/s]\n",
      "Generating audio segments:  64%|██████▎   | 7/11 [01:05<00:34,  8.61s/it]2025-01-15 11:31:11,489 INFO synthesis text 现在,想象自己成功完成了一个重要目标。看到自己<strong>自信满满</strong>地站在那里。\n",
      "2025-01-15 11:31:16,729 INFO yield speech len 7.68, rtf 0.6823442876338959\n",
      "  0%|          | 0/1 [00:06<?, ?it/s]\n",
      "Generating audio segments:  73%|███████▎  | 8/11 [01:11<00:23,  7.81s/it]2025-01-15 11:31:17,583 INFO synthesis text 感受那种<strong>自信和满足感</strong>充满你的全身。记住这种感觉,它将伴随你每一天。\n",
      "2025-01-15 11:31:24,195 INFO yield speech len 10.96, rtf 0.6033480819994516\n",
      "  0%|          | 0/1 [00:07<?, ?it/s]\n",
      "Generating audio segments:  82%|████████▏ | 9/11 [01:19<00:15,  7.70s/it]2025-01-15 11:31:25,017 INFO synthesis text 慢慢地,将注意力带回到你的呼吸上。感受每一次呼吸带来的<strong>平静和力量</strong>。\n",
      "2025-01-15 11:31:31,964 INFO yield speech len 10.8, rtf 0.6431990641134756\n",
      "  0%|          | 0/1 [00:07<?, ?it/s]\n",
      "Generating audio segments:  91%|█████████ | 10/11 [01:26<00:07,  7.72s/it]2025-01-15 11:31:32,872 INFO synthesis text 当你准备好了,轻轻睁开眼睛。带着这份<strong>自信</strong>,回到当下。\n",
      "2025-01-15 11:31:38,884 INFO yield speech len 8.52, rtf 0.7055662887197146\n",
      "  0%|          | 0/1 [00:06<?, ?it/s]\n",
      "Generating audio segments: 100%|██████████| 11/11 [01:33<00:00,  8.53s/it]\n"
     ]
    },
    {
     "name": "stdout",
     "output_type": "stream",
     "text": [
      "Combining audio segments with background music...\n",
      "Saving final audio to /root/autodl-tmp/I-AM/project/backend/agents/output/tts/20250115112917.wav\n",
      "Audio generation completed!\n",
      "音频已生成\n"
     ]
    },
    {
     "data": {
      "text/plain": [
       "{'messages': [],\n",
       " 'route': 'meditation',\n",
       " 'log': ['音频已生成. path: /root/autodl-tmp/I-AM/project/backend/agents/output/tts/20250115112917.wav'],\n",
       " 'success': True,\n",
       " 'data': {'sequences': [{'id': 0,\n",
       "    'text': '让我们开始这段<strong>增强自信</strong>的冥想旅程。请找一个安静舒适的地方坐下。',\n",
       "    'duration': 2},\n",
       "   {'id': 1,\n",
       "    'text': '轻轻闭上眼睛，将注意力集中在你的呼吸上。深吸一口气[breath]，感受空气进入你的身体。',\n",
       "    'duration': 2},\n",
       "   {'id': 2, 'text': '慢慢呼气[breath]，感受身体的放松。让每一次呼吸都带走你的紧张和焦虑。', 'duration': 2},\n",
       "   {'id': 3,\n",
       "    'text': '现在，将注意力转移到你的身体上。从头顶开始[breath]，慢慢放松每一块肌肉[breath]。',\n",
       "    'duration': 2},\n",
       "   {'id': 4,\n",
       "    'text': '感受你的肩膀[breath]、手臂[breath]、胸部[breath]和腹部[breath]逐渐放松。让整个身体都沉浸在平静中。',\n",
       "    'duration': 2},\n",
       "   {'id': 5,\n",
       "    'text': \"接下来，我们将进行<strong>自我肯定</strong>。请在心里默念：'我充满自信'。\",\n",
       "    'duration': 2},\n",
       "   {'id': 6,\n",
       "    'text': \"重复这句话：'我有能力应对任何挑战'。感受这些话语带来的<strong>力量和信心</strong>。\",\n",
       "    'duration': 2},\n",
       "   {'id': 7,\n",
       "    'text': '现在，想象自己成功完成了一个重要目标。看到自己<strong>自信满满</strong>地站在那里。',\n",
       "    'duration': 2},\n",
       "   {'id': 8,\n",
       "    'text': '感受那种<strong>自信和满足感</strong>充满你的全身。记住这种感觉，它将伴随你每一天。',\n",
       "    'duration': 2},\n",
       "   {'id': 9,\n",
       "    'text': '慢慢地，将注意力带回到你的呼吸上。感受每一次呼吸带来的<strong>平静和力量</strong>。',\n",
       "    'duration': 2},\n",
       "   {'id': 10,\n",
       "    'text': '当你准备好了，轻轻睁开眼睛。带着这份<strong>自信</strong>，回到当下。',\n",
       "    'duration': 2}]}}"
      ]
     },
     "execution_count": 14,
     "metadata": {},
     "output_type": "execute_result"
    }
   ],
   "source": [
    "import json\n",
    "\n",
    "# with open('/root/autodl-tmp/I-AM/project/backend/agents/jupyter/conversations_data/meditation.json', 'r', encoding='utf-8') as f:\n",
    "#     conversation_json = json.load(f)\n",
    "\n",
    "# conversation = \"\"\n",
    "# for message in conversation_json['messages']:\n",
    "#     conversation += f\"{message['role']}: {message['content']}\\n\"\n",
    "\n",
    "messags = [\n",
    "    HumanMessage(content=\"想要一个2分钟鼓励我，让我充满自信的音频\"),\n",
    "]\n",
    "\n",
    "\n",
    "meditation_graph.invoke(NodeResult(messages=messags))"
   ]
  },
  {
   "cell_type": "code",
   "execution_count": null,
   "metadata": {},
   "outputs": [],
   "source": []
  }
 ],
 "metadata": {
  "kernelspec": {
   "display_name": "manifest_app",
   "language": "python",
   "name": "python3"
  },
  "language_info": {
   "codemirror_mode": {
    "name": "ipython",
    "version": 3
   },
   "file_extension": ".py",
   "mimetype": "text/x-python",
   "name": "python",
   "nbconvert_exporter": "python",
   "pygments_lexer": "ipython3",
   "version": "3.11.11"
  }
 },
 "nbformat": 4,
 "nbformat_minor": 2
}
