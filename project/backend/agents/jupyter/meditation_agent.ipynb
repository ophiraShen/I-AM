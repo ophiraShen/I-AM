{
 "cells": [
  {
   "cell_type": "code",
   "execution_count": 48,
   "metadata": {},
   "outputs": [
    {
     "data": {
      "text/plain": [
       "True"
      ]
     },
     "execution_count": 48,
     "metadata": {},
     "output_type": "execute_result"
    }
   ],
   "source": [
    "import sys\n",
    "\n",
    "sys.path.append('/root/autodl-tmp/I-AM/project/backend/agents')\n",
    "\n",
    "from langchain_openai import ChatOpenAI\n",
    "from langchain_core.messages import AIMessage, HumanMessage, SystemMessage, ToolMessage\n",
    "from langchain_core.prompts import ChatPromptTemplate, MessagesPlaceholder\n",
    "# from langchain_core.runnables import Runnable, RunnableConfig\n",
    "# from langgraph.checkpoint.memory import MemorySaver\n",
    "from langgraph.graph import StateGraph, START, END\n",
    "from langgraph.graph.message import AnyMessage, add_messages\n",
    "\n",
    "from typing import List, Optional, Dict, Any, Literal\n",
    "from pydantic import BaseModel, Field, ConfigDict, field_validator\n",
    "\n",
    "import json\n",
    "import yaml\n",
    "from datetime import datetime\n",
    "import os\n",
    "from dotenv import load_dotenv\n",
    "\n",
    "load_dotenv()"
   ]
  },
  {
   "cell_type": "code",
   "execution_count": 49,
   "metadata": {},
   "outputs": [],
   "source": [
    "with open('/root/autodl-tmp/I-AM/project/backend/config/meditation.yaml', 'r') as f:\n",
    "    config = yaml.safe_load(f)"
   ]
  },
  {
   "cell_type": "code",
   "execution_count": 50,
   "metadata": {},
   "outputs": [],
   "source": [
    "\n",
    "llm = ChatOpenAI(model=\"deepseek-chat\", openai_api_key=os.getenv(\"DEEPSEEK_API_KEY\"), openai_api_base='https://api.deepseek.com')"
   ]
  },
  {
   "cell_type": "code",
   "execution_count": 51,
   "metadata": {},
   "outputs": [],
   "source": [
    "def add_log(current_log, new_log: str) -> list[str]:\n",
    "    if current_log is None:\n",
    "        return [new_log]\n",
    "    elif isinstance(current_log, list):\n",
    "        return current_log + [new_log]\n",
    "    elif isinstance(current_log, str):\n",
    "        return [current_log, new_log]\n",
    "    else:\n",
    "        return [new_log]\n",
    "\n",
    "class OverallState(BaseModel):\n",
    "    model_config = ConfigDict(arbitrary_types_allowed=True)\n",
    "\n",
    "    messages: List[AnyMessage] = Field(default_factory=list, title=\"对话列表\")\n",
    "    route: Literal[\"diary\", \"meditation\", \"normal_chat\"] = Field(default=\"normal_chat\", title=\"当前路由\")\n",
    "    log: List[str] = Field(default_factory=list, title=\"日志列表\")\n",
    "\n",
    "    @field_validator('log', mode='before')\n",
    "    def validate_log(cls, v, info):\n",
    "        if v is None or (isinstance(v, list) and len(v) == 0):\n",
    "            return []\n",
    "        if 'log' in info.data:\n",
    "            return add_log(info.data['log'], v)\n",
    "        return [v] if isinstance(v ,str) else v\n",
    "        \n",
    "\n",
    "    @field_validator('messages', mode='before')\n",
    "    def validate_messages(cls, v, info):\n",
    "        if 'messages' in info.data:\n",
    "            return add_messages(info.data['messages'], v)\n",
    "        else:\n",
    "            return v if isinstance(v, list) else [v]"
   ]
  },
  {
   "cell_type": "markdown",
   "metadata": {},
   "source": [
    "## 统一的结果状态类"
   ]
  },
  {
   "cell_type": "code",
   "execution_count": 52,
   "metadata": {},
   "outputs": [],
   "source": [
    "class NodeResult(OverallState):\n",
    "    local_route: Literal[\"outline_node\", \"script_node\", \"tone_marking_node\", \"tts_node\"] = Field(default=\"outline_node\", title=\"本地路由\")\n",
    "    success: bool = Field(default=True, title=\"执行状态\")\n",
    "    data: Optional[Dict[str, Any]] = Field(default=None, title=\"详细传递数据\")\n",
    "    error: Optional[str] = Field(default=None, title=\"错误信息\")"
   ]
  },
  {
   "cell_type": "markdown",
   "metadata": {},
   "source": [
    "## Outline Node"
   ]
  },
  {
   "cell_type": "code",
   "execution_count": 53,
   "metadata": {},
   "outputs": [],
   "source": [
    "# 定义冥想类型枚举\n",
    "class MeditationType(BaseModel):\n",
    "    category: Literal[\"breathing\", \"visualization\", \"body_scan\", \"gratitude\", \"affirmation\", \"mindfulness\"] = Field(..., title=\"冥想类型\")\n",
    "    duration_minutes: int = Field(..., title=\"预期时长(分钟)\", ge=1, le=30)\n",
    "    background_music_style: Optional[str] = Field(None, title=\"背景音乐风格偏好\")\n",
    "\n",
    "# 定义用户意图模型\n",
    "class UserIntent(BaseModel):\n",
    "    goal: str = Field(..., title=\"用户的目标或需求\")\n",
    "    current_mood: Optional[str] = Field(None, title=\"当前情绪状态\")\n",
    "    preferences: Optional[Dict[str, Any]] = Field(default_factory=dict, title=\"特殊偏好\")\n",
    "\n",
    "# 定义确定内容模型\n",
    "class DefiniteContent(BaseModel):\n",
    "    content: str = Field(..., title=\"具体内容\")\n",
    "    context: Optional[str] = Field(None, title=\"相关上下文\")\n",
    "\n",
    "# 定义内容段落模型\n",
    "class ContentBlock(BaseModel):\n",
    "    model_config = ConfigDict(arbitrary_types_allowed=True)\n",
    "    purpose: str = Field(..., title=\"段落目的\")\n",
    "    key_elements: List[str] = Field(..., title=\"关键要素\")\n",
    "    tone: Optional[str] = Field(None, title=\"语气特点\")\n",
    "    timing: Optional[str] = Field(None, title=\"时间控制建议\")\n",
    "    \n",
    "    # 确定要包含的内容列表（可选）\n",
    "    definite_contents: Optional[List[DefiniteContent]] = Field(\n",
    "        default=None, \n",
    "        title=\"确定要包含的内容\"\n",
    "    )\n",
    "\n",
    "    def add_content(self, content: str, context: Optional[str] = None) -> None:\n",
    "        \"\"\"添加确定要包含的内容\"\"\"\n",
    "        if self.definite_contents is None:\n",
    "            self.definite_contents = []\n",
    "        self.definite_contents.append(\n",
    "            DefiniteContent(\n",
    "                content=content,\n",
    "                context=context\n",
    "            )\n",
    "        )\n",
    "        \n",
    "    # 内容在段落中的放置位置\n",
    "    content_placement: Literal[\"start\", \"middle\", \"end\", \"flexible\"] = Field(\n",
    "        default=\"flexible\",\n",
    "        title=\"内容放置位置\"\n",
    "    )\n",
    "    # 内容整合的相关说明\n",
    "    integration_notes: Optional[str] = Field(\n",
    "        None, \n",
    "        title=\"内容整合建议\"\n",
    "    )\n",
    "\n",
    "    @property\n",
    "    def has_definite_content(self) -> bool:\n",
    "        \"\"\"检查是否包含确定内容\"\"\"\n",
    "        return self.definite_contents is not None and len(self.definite_contents) > 0\n",
    "\n",
    "    def add_content(self, content: str, context: Optional[str] = None) -> None:\n",
    "        \"\"\"添加确定要包含的内容\"\"\"\n",
    "        if self.definite_contents is None:\n",
    "            self.definite_contents = []\n",
    "        self.definite_contents.append(\n",
    "            DefiniteContent(\n",
    "                content=content,\n",
    "                context=context\n",
    "            )\n",
    "        )\n",
    "\n",
    "# 定义完整冥想大纲\n",
    "class MeditationOutline(BaseModel):\n",
    "    model_config = ConfigDict(arbitrary_types_allowed=True)\n",
    "    meditation_type: MeditationType = Field(..., title=\"冥想类型配置\")\n",
    "    user_intent: UserIntent = Field(..., title=\"用户意图\")\n",
    "    content_blocks: List[ContentBlock] = Field(..., title=\"内容块列表\")\n",
    "    special_instructions: Optional[List[str]] = Field(default_factory=list, title=\"特殊指示\")\n",
    "\n",
    "    @property\n",
    "    def as_str(self) -> str:\n",
    "        \"\"\"将大纲转换为字符串格式\"\"\"\n",
    "        # 构建冥想类型信息\n",
    "        meditation_info = (\n",
    "            f\"# 冥想配置\\n\\n\"\n",
    "            f\"- 类型：{self.meditation_type.category}\\n\"\n",
    "            f\"- 时长：{self.meditation_type.duration_minutes}分钟\\n\"\n",
    "            f\"- 音乐风格：{self.meditation_type.background_music_style or '默认'}\\n\\n\"\n",
    "        )\n",
    "        \n",
    "        # 构建用户意图信息\n",
    "        intent_info = (\n",
    "            f\"# 用户意图\\n\\n\"\n",
    "            f\"- 目标：{self.user_intent.goal}\\n\"\n",
    "            f\"- 当前情绪：{self.user_intent.current_mood or '未指定'}\\n\"\n",
    "            f\"- 特殊偏好：{', '.join(f'{k}: {v}' for k, v in self.user_intent.preferences.items()) or '无'}\\n\\n\"\n",
    "        )\n",
    "        \n",
    "        # 构建内容块信息\n",
    "        content_info = \"# 内容结构\\n\\n\"\n",
    "        for i, block in enumerate(self.content_blocks, 1):\n",
    "            content_info += (\n",
    "                f\"## 内容块 {i}\\n\"\n",
    "                f\"目的：{block.purpose}\\n\"\n",
    "                f\"关键要素：{', '.join(block.key_elements)}\\n\"\n",
    "                f\"语气：{block.tone or '自然'}\\n\"\n",
    "                f\"时间：{block.timing or '灵活'}\\n\"\n",
    "            )\n",
    "            \n",
    "            # 添加确定内容的信息\n",
    "            if block.has_definite_content:\n",
    "                content_info += \"\\n确定内容：\\n\"\n",
    "                for content in block.definite_contents:\n",
    "                    content_info += (\n",
    "                        f\"- {content.content}\\n\"\n",
    "                        f\"  上下文：{content.context or '无'}\\n\"\n",
    "                    )\n",
    "            \n",
    "            if block.integration_notes:\n",
    "                content_info += f\"\\n整合建议：{block.integration_notes}\\n\"\n",
    "            \n",
    "            content_info += f\"\\n放置位置：{block.content_placement}\\n\\n\"\n",
    "        \n",
    "        # 添加特殊指示\n",
    "        if self.special_instructions:\n",
    "            content_info += (\n",
    "                f\"# 特殊指示\\n\\n\"\n",
    "                f\"{chr(10).join(f'- {instruction}' for instruction in self.special_instructions)}\"\n",
    "            )\n",
    "        \n",
    "        return meditation_info + intent_info + content_info\n",
    "\n",
    "with open(config['prompts']['outline'], 'r', encoding='utf-8') as f:\n",
    "    MEDITATION_OUTLINE_PROMPT = f.read()\n",
    "\n",
    "\n",
    "def create_meditation_outline(state: NodeResult) -> NodeResult:\n",
    "    try:\n",
    "        conversation_content = \"\"\n",
    "        for message in state.messages:\n",
    "            if isinstance(message, HumanMessage):\n",
    "                conversation_content += f\"user: {message.content}\\n\"\n",
    "            elif isinstance(message, AIMessage):\n",
    "                conversation_content += f\"assistant: {message.content}\\n\"\n",
    "            else:\n",
    "                continue\n",
    "        meditation_outline_prompt = ChatPromptTemplate([\n",
    "            (\"system\", MEDITATION_OUTLINE_PROMPT),\n",
    "            (\"user\", \"{conversation_content}\")\n",
    "        ])\n",
    "        generate_meditation_outline = meditation_outline_prompt | llm.with_structured_output(MeditationOutline, method=\"function_calling\")\n",
    "        outline = generate_meditation_outline.invoke({\"conversation_content\": conversation_content})\n",
    "\n",
    "        timestamp = datetime.now().strftime(\"%Y%m%d%H%M%S\")\n",
    "        output_path = f\"{config['paths']['outline_output_path']}/{timestamp}.txt\"\n",
    "        with open(output_path, 'w', encoding='utf-8') as f:\n",
    "            f.write(outline.as_str)\n",
    "\n",
    "        print(\"大纲已生成\")\n",
    "        \n",
    "        return NodeResult(local_route=\"outline_node\", data={\"outline\": outline.as_str})\n",
    "    except Exception as e:\n",
    "        return NodeResult(local_route=\"outline_node\", success=False, error=str(e), log=f\"大纲生成失败: {str(e)}\")"
   ]
  },
  {
   "cell_type": "markdown",
   "metadata": {},
   "source": [
    "## Script Node"
   ]
  },
  {
   "cell_type": "code",
   "execution_count": 54,
   "metadata": {},
   "outputs": [],
   "source": [
    "\n",
    "class MeditationScript(BaseModel):\n",
    "    sequences: List[str] = Field(..., title=\"引导词序列\")\n",
    "\n",
    "    @property\n",
    "    def as_str(self) -> str:\n",
    "        return \"\\n\\n\".join(\n",
    "            f\"text: {item}\"\n",
    "            for item in self.sequences\n",
    "        )\n",
    "\n",
    "    @property\n",
    "    def as_yaml(self) -> str:\n",
    "        return \"sequences:\\n\" + \"\\n\".join(\n",
    "            f\"id: {idx}\\ntext: {item}\"\n",
    "            for idx, item in enumerate(self.sequences)\n",
    "        )\n",
    "\n",
    "with open(config['prompts']['script'], 'r', encoding='utf-8') as f:\n",
    "    MEDITATION_SCRIPT_PROMPT = f.read()\n",
    "\n",
    "\n",
    "def create_meditation_script(state: NodeResult) -> NodeResult:\n",
    "    try:\n",
    "        script_prompt = ChatPromptTemplate.from_messages([\n",
    "            (\"system\", MEDITATION_SCRIPT_PROMPT),\n",
    "            (\"user\", \"\"\"请根据以下冥想大纲生成详细的引导词：\n",
    "\n",
    "        {outline}\"\"\")\n",
    "        ])\n",
    "        generate_meditation_script = script_prompt | llm.with_structured_output(MeditationScript, method=\"function_calling\")\n",
    "        script = generate_meditation_script.invoke({\"outline\": state.data['outline']})\n",
    "\n",
    "        print(\"脚本已生成\")\n",
    "        \n",
    "        return NodeResult(local_route=\"script_node\", data={\"script\": script.as_str})\n",
    "    except Exception as e:\n",
    "        return NodeResult(local_route=\"script_node\", success=False, error=str(e), log=f\"脚本生成失败: {str(e)}\")\n"
   ]
  },
  {
   "cell_type": "markdown",
   "metadata": {},
   "source": [
    "## Tone Marking Node"
   ]
  },
  {
   "cell_type": "code",
   "execution_count": 55,
   "metadata": {},
   "outputs": [],
   "source": [
    "\n",
    "# 定义带标记的文本段落\n",
    "class MarkedSequence(BaseModel):\n",
    "    original_text: str = Field(..., title=\"原始文本\")\n",
    "    marked_text: str = Field(..., title=\"带标记的文本\")\n",
    "    duration: int = Field(..., title=\"持续时间（秒）\", ge=2, le=6)\n",
    "\n",
    "# 定义完整的带标记冥想脚本\n",
    "class MarkedMeditationScript(BaseModel):\n",
    "    sequences: List[MarkedSequence] = Field(..., title=\"带标记的引导词序列\")\n",
    "\n",
    "    @property\n",
    "    def as_str(self) -> str:\n",
    "        return \"\\n\\n\".join(\n",
    "            f\"id: {idx}\\ntext: {item.marked_text}\\nduration: {item.duration}\"\n",
    "            for idx, item in enumerate(self.sequences)\n",
    "        )\n",
    "    \n",
    "    @property\n",
    "    def as_yaml(self) -> str:\n",
    "        return \"sequences:\\n\" + \"\\n\".join(\n",
    "            f\"id: {idx}\\ntext: \\\"{item.marked_text}\\\"\\nduration: {item.duration}\"\n",
    "            for idx, item in enumerate(self.sequences)\n",
    "        )\n",
    "\n",
    "    def to_yaml_dict(self) -> dict:\n",
    "        return {\n",
    "            \"sequences\": [\n",
    "                {\n",
    "                    \"id\": idx,\n",
    "                    \"text\": item.marked_text,\n",
    "                    \"duration\": item.duration\n",
    "                }\n",
    "                for idx, item in enumerate(self.sequences)\n",
    "            ]\n",
    "        }\n",
    "\n",
    "with open(config['prompts']['tone'], 'r', encoding='utf-8') as f:\n",
    "    MEDITATION_TONE_PROMPT = f.read()\n",
    "\n",
    "\n",
    "\n",
    "def create_marked_meditation_script(state: NodeResult) -> NodeResult:\n",
    "    try:\n",
    "        tone_marking_prompt = ChatPromptTemplate.from_messages([\n",
    "            (\"system\", MEDITATION_TONE_PROMPT),\n",
    "            (\"user\", \"请为以下冥想引导词添加适当的语气标记：\\n\\n{script}\")\n",
    "        ])\n",
    "        generate_marked_script = tone_marking_prompt | llm.with_structured_output(MarkedMeditationScript, method=\"function_calling\")\n",
    "        marked_script = generate_marked_script.invoke({\"script\": state.data['script']})\n",
    "        \n",
    "        timestamp = datetime.now().strftime(\"%Y%m%d%H%M%S\")\n",
    "        output_path = f\"{config['paths']['script_output_path']}/{timestamp}.yaml\"\n",
    "        with open(output_path, 'w', encoding='utf-8') as f:\n",
    "            yaml.dump(marked_script.to_yaml_dict(), f, indent=2, allow_unicode=True, sort_keys=False)\n",
    "\n",
    "        print(\"带标记的脚本已生成\")\n",
    "        \n",
    "        return NodeResult(local_route=\"tone_marking_node\", data=marked_script.to_yaml_dict())\n",
    "    except Exception as e:\n",
    "        return NodeResult(local_route=\"tone_marking_node\", success=False, error=str(e), log=f\"带标记的脚本生成失败: {str(e)}\")\n",
    "\n"
   ]
  },
  {
   "cell_type": "markdown",
   "metadata": {},
   "source": [
    "## tts Node"
   ]
  },
  {
   "cell_type": "code",
   "execution_count": 56,
   "metadata": {},
   "outputs": [],
   "source": [
    "from meditation_tts import CosyVoice2TTS\n",
    "\n",
    "def create_tts(state: NodeResult) -> NodeResult:\n",
    "    try:\n",
    "        timestamp = datetime.now().strftime(\"%Y%m%d%H%M%S\")\n",
    "        output_path = os.path.join(config['paths']['tts_output_path'], f\"{timestamp}.wav\")\n",
    "        tts = CosyVoice2TTS(\n",
    "            model_path=config['tts']['tts_model_path'],\n",
    "            prompts_config_path=config['tts']['tts_resources_config']\n",
    "        )\n",
    "        tts.generate_audio(\n",
    "            texts=state.data,\n",
    "            voice_type=\"female1\",\n",
    "            background_music_type=\"bmusic_02\",\n",
    "            output_path=output_path\n",
    "        )  \n",
    "\n",
    "        print(\"音频已生成\")\n",
    "        \n",
    "        return NodeResult(local_route=\"tts_node\", log=f\"音频已生成. path: {output_path}\")\n",
    "    except Exception as e:\n",
    "        return NodeResult(local_route=\"tts_node\", success=False, error=str(e), log=f\"音频生成失败: {str(e)}\")\n"
   ]
  },
  {
   "cell_type": "markdown",
   "metadata": {},
   "source": [
    "## 错误处理节点"
   ]
  },
  {
   "cell_type": "code",
   "execution_count": 57,
   "metadata": {},
   "outputs": [],
   "source": [
    "def handle_error(state: NodeResult) -> NodeResult:  # 修改返回类型标注\n",
    "    error_msg = state.error\n",
    "    print(f\"处理错误: {error_msg}\")\n",
    "    # 返回正确的 NodeResult 对象\n",
    "    return NodeResult(\n",
    "        success=False,\n",
    "        error=error_msg,\n",
    "        data={\"error_message\": f\"处理错误: {error_msg}\"}\n",
    "    )"
   ]
  },
  {
   "cell_type": "markdown",
   "metadata": {},
   "source": [
    "## 条件边判断"
   ]
  },
  {
   "cell_type": "code",
   "execution_count": 58,
   "metadata": {},
   "outputs": [],
   "source": [
    "def check_success(state: NodeResult):\n",
    "    if state.success:\n",
    "        return \"success_node\"\n",
    "    else:\n",
    "        return \"error_node\"\n"
   ]
  },
  {
   "cell_type": "code",
   "execution_count": 59,
   "metadata": {},
   "outputs": [],
   "source": [
    "meditation_workflow = StateGraph(NodeResult)\n",
    "meditation_workflow.add_node(\"outline_node\", create_meditation_outline)\n",
    "meditation_workflow.add_node(\"script_node\", create_meditation_script)\n",
    "meditation_workflow.add_node(\"tone_marking_node\", create_marked_meditation_script)\n",
    "meditation_workflow.add_node(\"tts_node\", create_tts)\n",
    "meditation_workflow.add_node(\"error_node\", handle_error)\n",
    "\n",
    "meditation_workflow.add_conditional_edges(\n",
    "    \"outline_node\",\n",
    "    check_success,\n",
    "    {\n",
    "        \"success_node\": \"script_node\",\n",
    "        \"error_node\": \"error_node\"\n",
    "    }\n",
    ")\n",
    "\n",
    "meditation_workflow.add_conditional_edges(\n",
    "        \"script_node\",\n",
    "        check_success,\n",
    "        {\n",
    "            \"success_node\": \"tone_marking_node\",\n",
    "            \"error_node\": \"error_node\"\n",
    "        }\n",
    "    )\n",
    "    \n",
    "meditation_workflow.add_conditional_edges(\n",
    "    \"tone_marking_node\",\n",
    "    check_success,\n",
    "    {\n",
    "        \"success_node\": \"tts_node\",\n",
    "        \"error_node\": \"error_node\"\n",
    "    }\n",
    ")\n",
    "\n",
    "meditation_workflow.add_conditional_edges(\n",
    "    \"tts_node\",\n",
    "    check_success,\n",
    "    {\n",
    "        \"success_node\": END,\n",
    "        \"error_node\": \"error_node\"\n",
    "    }\n",
    ")\n",
    "meditation_workflow.add_edge(START, \"outline_node\")\n",
    "meditation_workflow.add_edge(\"error_node\", END)\n",
    "\n",
    "meditation_graph = meditation_workflow.compile()"
   ]
  },
  {
   "cell_type": "code",
   "execution_count": 60,
   "metadata": {},
   "outputs": [
    {
     "name": "stderr",
     "output_type": "stream",
     "text": [
      "2025-04-20 23:08:52,095 DEBUG Starting new HTTPS connection (1): mermaid.ink:443\n",
      "2025-04-20 23:08:58,303 DEBUG https://mermaid.ink:443 \"GET /img/LS0tCmNvbmZpZzoKICBmbG93Y2hhcnQ6CiAgICBjdXJ2ZTogbGluZWFyCi0tLQpncmFwaCBURDsKCV9fc3RhcnRfXyhbPHA+X19zdGFydF9fPC9wPl0pOjo6Zmlyc3QKCW91dGxpbmVfbm9kZShvdXRsaW5lX25vZGUpCglzY3JpcHRfbm9kZShzY3JpcHRfbm9kZSkKCXRvbmVfbWFya2luZ19ub2RlKHRvbmVfbWFya2luZ19ub2RlKQoJdHRzX25vZGUodHRzX25vZGUpCgllcnJvcl9ub2RlKGVycm9yX25vZGUpCglfX2VuZF9fKFs8cD5fX2VuZF9fPC9wPl0pOjo6bGFzdAoJX19zdGFydF9fIC0tPiBvdXRsaW5lX25vZGU7CgllcnJvcl9ub2RlIC0tPiBfX2VuZF9fOwoJb3V0bGluZV9ub2RlIC0uICZuYnNwO3N1Y2Nlc3Nfbm9kZSZuYnNwOyAuLT4gc2NyaXB0X25vZGU7CglvdXRsaW5lX25vZGUgLS4tPiBlcnJvcl9ub2RlOwoJc2NyaXB0X25vZGUgLS4gJm5ic3A7c3VjY2Vzc19ub2RlJm5ic3A7IC4tPiB0b25lX21hcmtpbmdfbm9kZTsKCXNjcmlwdF9ub2RlIC0uLT4gZXJyb3Jfbm9kZTsKCXRvbmVfbWFya2luZ19ub2RlIC0uICZuYnNwO3N1Y2Nlc3Nfbm9kZSZuYnNwOyAuLT4gdHRzX25vZGU7Cgl0b25lX21hcmtpbmdfbm9kZSAtLi0+IGVycm9yX25vZGU7Cgl0dHNfbm9kZSAtLiAmbmJzcDtzdWNjZXNzX25vZGUmbmJzcDsgLi0+IF9fZW5kX187Cgl0dHNfbm9kZSAtLi0+IGVycm9yX25vZGU7CgljbGFzc0RlZiBkZWZhdWx0IGZpbGw6I2YyZjBmZixsaW5lLWhlaWdodDoxLjIKCWNsYXNzRGVmIGZpcnN0IGZpbGwtb3BhY2l0eTowCgljbGFzc0RlZiBsYXN0IGZpbGw6I2JmYjZmYwo=?type=png&bgColor=!white HTTP/11\" 200 34445\n"
     ]
    },
    {
     "data": {
      "image/png": "[encoded data removed]",
      "text/plain": [
       "<IPython.core.display.Image object>"
      ]
     },
     "metadata": {},
     "output_type": "display_data"
    }
   ],
   "source": [
    "from IPython.display import Image, display\n",
    "\n",
    "# Setting xray to 1 will show the internal structure of the nested graph\n",
    "display(Image(meditation_graph.get_graph(xray=2).draw_mermaid_png()))"
   ]
  },
  {
   "cell_type": "code",
   "execution_count": 61,
   "metadata": {},
   "outputs": [],
   "source": [
    "messages = [HumanMessage(content='我下周要去面试，我好紧张，请帮我生成一些肯定语，让我充满信心', additional_kwargs={}, response_metadata={}, id='0cb98d68-fcc4-43d3-b309-be8bcb0f3237'),\n",
    " AIMessage(content='太棒了！你已经迈出了重要的一步，准备去面试了！🌟 紧张是很正常的，但我们可以通过一些肯定语来帮助你增强信心。以下是一些为你量身定制的肯定语：\\n\\n1. **我充满自信地迎接下周的面试，展现出最好的自己。**\\n2. **我准备充分，轻松应对面试中的每一个问题。**\\n3. **我的能力和经验让我在面试中脱颖而出。**\\n4. **我保持冷静和专注，展现出我的专业素养。**\\n5. **面试官对我的表现印象深刻，我顺利通过了面试。**\\n\\n这些肯定语可以帮助你在面试前和面试中保持积极的心态。你可以每天早晨起床后和晚上睡觉前重复这些肯定语，也可以在镜子前大声说出来，增强你的自信感。\\n\\n你觉得这些肯定语对你有帮助吗？或者你还有其他方面的需求吗？😊', additional_kwargs={'refusal': None}, response_metadata={'token_usage': {'completion_tokens': 173, 'prompt_tokens': 597, 'total_tokens': 770, 'completion_tokens_details': None, 'prompt_tokens_details': None, 'prompt_cache_hit_tokens': 512, 'prompt_cache_miss_tokens': 85}, 'model_name': 'deepseek-chat', 'system_fingerprint': 'fp_3a5770e1b4', 'finish_reason': 'stop', 'logprobs': None}, id='run-0736423a-4921-4fea-bd56-2e535239e62a-0', usage_metadata={'input_tokens': 597, 'output_tokens': 173, 'total_tokens': 770, 'input_token_details': {}, 'output_token_details': {}}),\n",
    " HumanMessage(content='该如何使用这些肯定语？', additional_kwargs={}, response_metadata={}, id='56af430e-cce7-409d-8869-69ee88f80415'),\n",
    " AIMessage(content='使用肯定语是一种非常有效的自我激励和情绪调节方法。以下是一些具体的使用建议，帮助你更好地利用这些肯定语：\\n\\n1. **早晨和晚上重复**：\\n   - 每天早晨起床后，花几分钟时间，闭上眼睛，深呼吸，然后逐句重复这些肯定语。想象自己正在面试中，自信满满地回答问题。\\n   - 晚上睡觉前，再次重复这些肯定语，帮助你在潜意识中巩固这些积极的想法。\\n\\n2. **镜子练习**：\\n   - 站在镜子前，看着自己的眼睛，逐句大声说出这些肯定语。这种练习可以帮助你增强自信，并让你更直观地感受到自己的变化。\\n\\n3. **写在便签上**：\\n   - 将这些肯定语写在便签上，贴在你经常能看到的地方，比如浴室镜子、电脑屏幕旁或冰箱门上。每次看到这些便签，就默念或大声读出来。\\n\\n4. **冥想结合**：\\n   - 在进行冥想时，可以将这些肯定语作为冥想的一部分。在冥想过程中，想象自己正在面试，感受到自信和从容。\\n\\n5. **日常提醒**：\\n   - 在手机或电脑上设置提醒，每天定时提醒你重复这些肯定语。这样可以帮助你在忙碌的日常中不忘保持积极的心态。\\n\\n6. **情绪调节**：\\n   - 当你感到紧张或不安时，立即停下来，深呼吸几次，然后默念这些肯定语。这可以帮助你迅速调整情绪，恢复平静。\\n\\n你觉得这些方法中哪一种最适合你？或者你有其他想法吗？😊', additional_kwargs={'refusal': None}, response_metadata={'token_usage': {'completion_tokens': 316, 'prompt_tokens': 788, 'total_tokens': 1104, 'completion_tokens_details': None, 'prompt_tokens_details': None, 'prompt_cache_hit_tokens': 512, 'prompt_cache_miss_tokens': 276}, 'model_name': 'deepseek-chat', 'system_fingerprint': 'fp_3a5770e1b4', 'finish_reason': 'stop', 'logprobs': None}, id='run-1fa09ff5-0fc1-47b0-ba8c-17764fe82dc0-0', usage_metadata={'input_tokens': 788, 'output_tokens': 316, 'total_tokens': 1104, 'input_token_details': {}, 'output_token_details': {}}),\n",
    " HumanMessage(content='很好，可以将这些肯定语和使用方法，组织成一个冥想音频吗？方便我随时听', additional_kwargs={}, response_metadata={}, id='ecd86479-26c0-43ff-b937-13d359813965')]"
   ]
  },
  {
   "cell_type": "code",
   "execution_count": 62,
   "metadata": {},
   "outputs": [
    {
     "name": "stderr",
     "output_type": "stream",
     "text": [
      "2025-04-20 23:09:07,689 DEBUG Request options: {'method': 'post', 'url': '/chat/completions', 'files': None, 'json_data': {'messages': [{'content': '你是一位专业的冥想引导师，现在需要你根据用户的对话内容，生成一个冥想引导词的结构化大纲。\\n\\n请遵循以下要求：\\n\\n1. 分析用户对话内容，提取以下信息：\\n   - 用户的目标或需求\\n   - 当前的情绪状态（如有）\\n   - 特殊偏好（如语速、音乐等，如有）\\n   - 冥想时长（如未指定，默认为5分钟）\\n   - 对话中提到的希望包含的具体内容或表达\\n\\n2. 确定合适的冥想类型：\\n   - breathing（呼吸冥想）\\n   - visualization（视觉化冥想）\\n   - body_scan（身体扫描）\\n   - gratitude（感恩冥想）\\n   - affirmation（肯定语冥想）\\n   - mindfulness（正念冥想）\\n\\n3. 生成一个 JSON 格式的冥想脚本大纲\\n\\n注意事项：\\n1. content_blocks 的数量和结构应根据冥想类型和时长灵活安排，不必遵循固定模式\\n2. 如果在对话中发现用户特别提到或认可的表达方式，应将其添加到相应 content_block 的 definite_contents 中\\n3. 每个 content_block 的时长分配要合理，总和应等于预期时长\\n4. 根据用户的情绪状态和目标选择适当的语气和引导节奏\\n\\n请根据用户的对话内容，生成一个适合的冥想引导大纲。', 'role': 'system'}, {'content': 'user: 我下周要去面试，我好紧张，请帮我生成一些肯定语，让我充满信心\\nassistant: 太棒了！你已经迈出了重要的一步，准备去面试了！🌟 紧张是很正常的，但我们可以通过一些肯定语来帮助你增强信心。以下是一些为你量身定制的肯定语：\\n\\n1. **我充满自信地迎接下周的面试，展现出最好的自己。**\\n2. **我准备充分，轻松应对面试中的每一个问题。**\\n3. **我的能力和经验让我在面试中脱颖而出。**\\n4. **我保持冷静和专注，展现出我的专业素养。**\\n5. **面试官对我的表现印象深刻，我顺利通过了面试。**\\n\\n这些肯定语可以帮助你在面试前和面试中保持积极的心态。你可以每天早晨起床后和晚上睡觉前重复这些肯定语，也可以在镜子前大声说出来，增强你的自信感。\\n\\n你觉得这些肯定语对你有帮助吗？或者你还有其他方面的需求吗？😊\\nuser: 该如何使用这些肯定语？\\nassistant: 使用肯定语是一种非常有效的自我激励和情绪调节方法。以下是一些具体的使用建议，帮助你更好地利用这些肯定语：\\n\\n1. **早晨和晚上重复**：\\n   - 每天早晨起床后，花几分钟时间，闭上眼睛，深呼吸，然后逐句重复这些肯定语。想象自己正在面试中，自信满满地回答问题。\\n   - 晚上睡觉前，再次重复这些肯定语，帮助你在潜意识中巩固这些积极的想法。\\n\\n2. **镜子练习**：\\n   - 站在镜子前，看着自己的眼睛，逐句大声说出这些肯定语。这种练习可以帮助你增强自信，并让你更直观地感受到自己的变化。\\n\\n3. **写在便签上**：\\n   - 将这些肯定语写在便签上，贴在你经常能看到的地方，比如浴室镜子、电脑屏幕旁或冰箱门上。每次看到这些便签，就默念或大声读出来。\\n\\n4. **冥想结合**：\\n   - 在进行冥想时，可以将这些肯定语作为冥想的一部分。在冥想过程中，想象自己正在面试，感受到自信和从容。\\n\\n5. **日常提醒**：\\n   - 在手机或电脑上设置提醒，每天定时提醒你重复这些肯定语。这样可以帮助你在忙碌的日常中不忘保持积极的心态。\\n\\n6. **情绪调节**：\\n   - 当你感到紧张或不安时，立即停下来，深呼吸几次，然后默念这些肯定语。这可以帮助你迅速调整情绪，恢复平静。\\n\\n你觉得这些方法中哪一种最适合你？或者你有其他想法吗？😊\\nuser: 很好，可以将这些肯定语和使用方法，组织成一个冥想音频吗？方便我随时听\\n', 'role': 'user'}], 'model': 'deepseek-chat', 'parallel_tool_calls': False, 'stream': False, 'tool_choice': {'type': 'function', 'function': {'name': 'MeditationOutline'}}, 'tools': [{'type': 'function', 'function': {'name': 'MeditationOutline', 'description': '', 'parameters': {'properties': {'meditation_type': {'properties': {'category': {'enum': ['breathing', 'visualization', 'body_scan', 'gratitude', 'affirmation', 'mindfulness'], 'type': 'string'}, 'duration_minutes': {'maximum': 30, 'minimum': 1, 'type': 'integer'}, 'background_music_style': {'anyOf': [{'type': 'string'}, {'type': 'null'}], 'default': None}}, 'required': ['category', 'duration_minutes'], 'type': 'object'}, 'user_intent': {'properties': {'goal': {'type': 'string'}, 'current_mood': {'anyOf': [{'type': 'string'}, {'type': 'null'}], 'default': None}, 'preferences': {'anyOf': [{'additionalProperties': True, 'type': 'object'}, {'type': 'null'}]}}, 'required': ['goal'], 'type': 'object'}, 'content_blocks': {'items': {'properties': {'purpose': {'type': 'string'}, 'key_elements': {'items': {'type': 'string'}, 'type': 'array'}, 'tone': {'anyOf': [{'type': 'string'}, {'type': 'null'}], 'default': None}, 'timing': {'anyOf': [{'type': 'string'}, {'type': 'null'}], 'default': None}, 'definite_contents': {'anyOf': [{'items': {'properties': {'content': {'title': '具体内容', 'type': 'string'}, 'context': {'anyOf': [{'type': 'string'}, {'type': 'null'}], 'default': None, 'title': '相关上下文'}}, 'required': ['content'], 'title': 'DefiniteContent', 'type': 'object'}, 'type': 'array'}, {'type': 'null'}], 'default': None}, 'content_placement': {'default': 'flexible', 'enum': ['start', 'middle', 'end', 'flexible'], 'type': 'string'}, 'integration_notes': {'anyOf': [{'type': 'string'}, {'type': 'null'}], 'default': None}}, 'required': ['purpose', 'key_elements'], 'type': 'object'}, 'type': 'array'}, 'special_instructions': {'anyOf': [{'items': {'type': 'string'}, 'type': 'array'}, {'type': 'null'}]}}, 'required': ['meditation_type', 'user_intent', 'content_blocks'], 'type': 'object'}}}]}}\n",
      "2025-04-20 23:09:07,690 DEBUG Sending HTTP Request: POST https://api.deepseek.com/chat/completions\n",
      "2025-04-20 23:09:07,691 DEBUG connect_tcp.started host='api.deepseek.com' port=443 local_address=None timeout=None socket_options=None\n",
      "2025-04-20 23:09:07,743 DEBUG connect_tcp.complete return_value=<httpcore._backends.sync.SyncStream object at 0x7fd377ef1c90>\n",
      "2025-04-20 23:09:07,744 DEBUG start_tls.started ssl_context=<ssl.SSLContext object at 0x7fd58fde3890> server_hostname='api.deepseek.com' timeout=None\n",
      "2025-04-20 23:09:07,775 DEBUG start_tls.complete return_value=<httpcore._backends.sync.SyncStream object at 0x7fd377d6d190>\n",
      "2025-04-20 23:09:07,776 DEBUG send_request_headers.started request=<Request [b'POST']>\n",
      "2025-04-20 23:09:07,778 DEBUG send_request_headers.complete\n",
      "2025-04-20 23:09:07,779 DEBUG send_request_body.started request=<Request [b'POST']>\n",
      "2025-04-20 23:09:07,780 DEBUG send_request_body.complete\n",
      "2025-04-20 23:09:07,780 DEBUG receive_response_headers.started request=<Request [b'POST']>\n",
      "2025-04-20 23:09:07,829 DEBUG receive_response_headers.complete return_value=(b'HTTP/1.1', 200, b'OK', [(b'Date', b'Sun, 20 Apr 2025 15:09:07 GMT'), (b'Content-Type', b'application/json'), (b'Transfer-Encoding', b'chunked'), (b'Connection', b'keep-alive'), (b'Set-Cookie', b'HWWAFSESTIME=1745161745162; path=/'), (b'Set-Cookie', b'HWWAFSESID=223783aff7a23765fcf; path=/'), (b'vary', b'origin, access-control-request-method, access-control-request-headers'), (b'access-control-allow-credentials', b'true'), (b'x-ds-trace-id', b'83300239459e3bb2016d9cbc5a32def6'), (b'Strict-Transport-Security', b'max-age=31536000; includeSubDomains; preload'), (b'X-Content-Type-Options', b'nosniff'), (b'Content-Encoding', b'gzip'), (b'Server', b'elb')])\n",
      "2025-04-20 23:09:07,831 INFO HTTP Request: POST https://api.deepseek.com/chat/completions \"HTTP/1.1 200 OK\"\n",
      "2025-04-20 23:09:07,832 DEBUG receive_response_body.started request=<Request [b'POST']>\n",
      "2025-04-20 23:09:31,035 DEBUG receive_response_body.complete\n",
      "2025-04-20 23:09:31,036 DEBUG response_closed.started\n",
      "2025-04-20 23:09:31,037 DEBUG response_closed.complete\n",
      "2025-04-20 23:09:31,037 DEBUG HTTP Response: POST https://api.deepseek.com/chat/completions \"200 OK\" Headers([('date', 'Sun, 20 Apr 2025 15:09:07 GMT'), ('content-type', 'application/json'), ('transfer-encoding', 'chunked'), ('connection', 'keep-alive'), ('set-cookie', 'HWWAFSESTIME=1745161745162; path=/'), ('set-cookie', 'HWWAFSESID=223783aff7a23765fcf; path=/'), ('vary', 'origin, access-control-request-method, access-control-request-headers'), ('access-control-allow-credentials', 'true'), ('x-ds-trace-id', '83300239459e3bb2016d9cbc5a32def6'), ('strict-transport-security', 'max-age=31536000; includeSubDomains; preload'), ('x-content-type-options', 'nosniff'), ('content-encoding', 'gzip'), ('server', 'elb')])\n",
      "2025-04-20 23:09:31,038 DEBUG request_id: None\n",
      "2025-04-20 23:09:31,048 DEBUG Request options: {'method': 'post', 'url': '/chat/completions', 'files': None, 'json_data': {'messages': [{'content': '你是一位专业的冥想引导词创作者。请根据提供的冥想大纲，生成详细的引导词脚本。\\n\\n要求：\\n   - 每句话的字符个数必须控制在60-80个字符之间\\n   - 语气要柔和、平静、富有引导性\\n   - 使用简单、清晰的描述\\n\\n注意事项：\\n1. 根据冥想主题和目标调整语言风格\\n2. 合理安排停顿时长，通常在2-6秒之间\\n3. 确保引导词的节奏缓慢、平稳\\n4. 适当使用意象和比喻来加深体验\\n5. 在关键转折处添加更长的停顿\\n6. 确保每个部分（开场、主体、结束）的引导词风格连贯\\n\\n请根据提供的冥想大纲，生成一个完整的引导词脚本。脚本应该能够自然流畅地引导用户完成整个冥想过程。', 'role': 'system'}, {'content': '请根据以下冥想大纲生成详细的引导词：\\n\\n        # 冥想配置\\n\\n- 类型：affirmation\\n- 时长：5分钟\\n- 音乐风格：calm\\n\\n# 用户意图\\n\\n- 目标：增强面试前的信心\\n- 当前情绪：紧张\\n- 特殊偏好：language: 中文, tone: 温和而坚定\\n\\n# 内容结构\\n\\n## 内容块 1\\n目的：引导放松和专注\\n关键要素：深呼吸, 身体放松\\n语气：温和\\n时间：1分钟\\n\\n确定内容：\\n- 现在，找一个安静的地方，轻轻闭上眼睛。\\n  上下文：开始冥想\\n- 深吸一口气，感受空气充满你的肺部，然后缓慢地呼出。\\n  上下文：呼吸引导\\n- 让身体的每一部分都放松下来，从头到脚。\\n  上下文：身体放松\\n\\n放置位置：flexible\\n\\n## 内容块 2\\n目的：肯定语引导\\n关键要素：重复肯定语, 增强自信\\n语气：坚定\\n时间：3分钟\\n\\n确定内容：\\n- 我充满自信地迎接下周的面试，展现出最好的自己。\\n  上下文：肯定语1\\n- 我准备充分，轻松应对面试中的每一个问题。\\n  上下文：肯定语2\\n- 我的能力和经验让我在面试中脱颖而出。\\n  上下文：肯定语3\\n- 我保持冷静和专注，展现出我的专业素养。\\n  上下文：肯定语4\\n- 面试官对我的表现印象深刻，我顺利通过了面试。\\n  上下文：肯定语5\\n\\n放置位置：flexible\\n\\n## 内容块 3\\n目的：结束冥想\\n关键要素：感恩, 回归当下\\n语气：温暖\\n时间：1分钟\\n\\n确定内容：\\n- 感谢自己花时间照顾内心的感受。\\n  上下文：感恩\\n- 当你准备好时，轻轻睁开眼睛，带着这份自信回到当下。\\n  上下文：结束引导\\n\\n放置位置：flexible\\n\\n# 特殊指示\\n\\n- 背景音乐选择轻柔的钢琴曲或自然声音\\n- 语速适中，留有停顿', 'role': 'user'}], 'model': 'deepseek-chat', 'parallel_tool_calls': False, 'stream': False, 'tool_choice': {'type': 'function', 'function': {'name': 'MeditationScript'}}, 'tools': [{'type': 'function', 'function': {'name': 'MeditationScript', 'description': '', 'parameters': {'properties': {'sequences': {'items': {'type': 'string'}, 'type': 'array'}}, 'required': ['sequences'], 'type': 'object'}}}]}}\n",
      "2025-04-20 23:09:31,050 DEBUG Sending HTTP Request: POST https://api.deepseek.com/chat/completions\n",
      "2025-04-20 23:09:31,050 DEBUG send_request_headers.started request=<Request [b'POST']>\n",
      "2025-04-20 23:09:31,052 DEBUG send_request_headers.complete\n",
      "2025-04-20 23:09:31,052 DEBUG send_request_body.started request=<Request [b'POST']>\n",
      "2025-04-20 23:09:31,053 DEBUG send_request_body.complete\n",
      "2025-04-20 23:09:31,053 DEBUG receive_response_headers.started request=<Request [b'POST']>\n",
      "2025-04-20 23:09:31,100 DEBUG receive_response_headers.complete return_value=(b'HTTP/1.1', 200, b'OK', [(b'Date', b'Sun, 20 Apr 2025 15:09:31 GMT'), (b'Content-Type', b'application/json'), (b'Transfer-Encoding', b'chunked'), (b'Connection', b'keep-alive'), (b'vary', b'origin, access-control-request-method, access-control-request-headers'), (b'access-control-allow-credentials', b'true'), (b'x-ds-trace-id', b'e271f0c96649454a1e937550757978b0'), (b'Strict-Transport-Security', b'max-age=31536000; includeSubDomains; preload'), (b'X-Content-Type-Options', b'nosniff'), (b'Content-Encoding', b'gzip'), (b'Server', b'elb')])\n",
      "2025-04-20 23:09:31,101 INFO HTTP Request: POST https://api.deepseek.com/chat/completions \"HTTP/1.1 200 OK\"\n",
      "2025-04-20 23:09:31,102 DEBUG receive_response_body.started request=<Request [b'POST']>\n"
     ]
    },
    {
     "name": "stdout",
     "output_type": "stream",
     "text": [
      "大纲已生成\n",
      "{'outline_node': {'messages': [], 'route': 'normal_chat', 'log': [], 'local_route': 'outline_node', 'success': True, 'data': {'outline': '# 冥想配置\\n\\n- 类型：affirmation\\n- 时长：5分钟\\n- 音乐风格：calm\\n\\n# 用户意图\\n\\n- 目标：增强面试前的信心\\n- 当前情绪：紧张\\n- 特殊偏好：language: 中文, tone: 温和而坚定\\n\\n# 内容结构\\n\\n## 内容块 1\\n目的：引导放松和专注\\n关键要素：深呼吸, 身体放松\\n语气：温和\\n时间：1分钟\\n\\n确定内容：\\n- 现在，找一个安静的地方，轻轻闭上眼睛。\\n  上下文：开始冥想\\n- 深吸一口气，感受空气充满你的肺部，然后缓慢地呼出。\\n  上下文：呼吸引导\\n- 让身体的每一部分都放松下来，从头到脚。\\n  上下文：身体放松\\n\\n放置位置：flexible\\n\\n## 内容块 2\\n目的：肯定语引导\\n关键要素：重复肯定语, 增强自信\\n语气：坚定\\n时间：3分钟\\n\\n确定内容：\\n- 我充满自信地迎接下周的面试，展现出最好的自己。\\n  上下文：肯定语1\\n- 我准备充分，轻松应对面试中的每一个问题。\\n  上下文：肯定语2\\n- 我的能力和经验让我在面试中脱颖而出。\\n  上下文：肯定语3\\n- 我保持冷静和专注，展现出我的专业素养。\\n  上下文：肯定语4\\n- 面试官对我的表现印象深刻，我顺利通过了面试。\\n  上下文：肯定语5\\n\\n放置位置：flexible\\n\\n## 内容块 3\\n目的：结束冥想\\n关键要素：感恩, 回归当下\\n语气：温暖\\n时间：1分钟\\n\\n确定内容：\\n- 感谢自己花时间照顾内心的感受。\\n  上下文：感恩\\n- 当你准备好时，轻轻睁开眼睛，带着这份自信回到当下。\\n  上下文：结束引导\\n\\n放置位置：flexible\\n\\n# 特殊指示\\n\\n- 背景音乐选择轻柔的钢琴曲或自然声音\\n- 语速适中，留有停顿'}}}\n"
     ]
    },
    {
     "name": "stderr",
     "output_type": "stream",
     "text": [
      "2025-04-20 23:09:42,177 DEBUG receive_response_body.complete\n",
      "2025-04-20 23:09:42,178 DEBUG response_closed.started\n",
      "2025-04-20 23:09:42,178 DEBUG response_closed.complete\n",
      "2025-04-20 23:09:42,179 DEBUG HTTP Response: POST https://api.deepseek.com/chat/completions \"200 OK\" Headers({'date': 'Sun, 20 Apr 2025 15:09:31 GMT', 'content-type': 'application/json', 'transfer-encoding': 'chunked', 'connection': 'keep-alive', 'vary': 'origin, access-control-request-method, access-control-request-headers', 'access-control-allow-credentials': 'true', 'x-ds-trace-id': 'e271f0c96649454a1e937550757978b0', 'strict-transport-security': 'max-age=31536000; includeSubDomains; preload', 'x-content-type-options': 'nosniff', 'content-encoding': 'gzip', 'server': 'elb'})\n",
      "2025-04-20 23:09:42,179 DEBUG request_id: None\n",
      "2025-04-20 23:09:42,186 DEBUG Request options: {'method': 'post', 'url': '/chat/completions', 'files': None, 'json_data': {'messages': [{'content': '你是一位专业的冥想引导词编辑，擅长为冥想引导词添加适当的语气标记。\\n\\n请遵循以下规则为冥想引导词添加标记：\\n\\n1. 呼吸标记：\\n   - [breath] - 用于需要深呼吸的位置\\n   - [quick_breath] - 用于快速呼吸的位置\\n   - [sigh] - 用于需要叹息释放的位置\\n\\n2. 强调标记：\\n   - <strong>文字</strong> - 用于需要强调的重要指导语\\n\\n标记使用规则：\\n1. 身体放松引导：\\n   - 描述身体部位放松时，在每个部位后添加 [breath]\\n   - 例如：\"放松你的肩膀[breath]，手臂[breath]，一直到指尖[breath]\"\\n\\n2. 压力释放：\\n   - 在需要释放压力或紧张的时刻，使用 [sigh]\\n   - 例如：\"深深地叹息，释放所有的紧张[sigh]\"\\n\\n3. 重要指导：\\n   - 对关键指导语添加强调标记\\n   - 例如：\"<strong>保持这份觉察</strong>\"\\n\\n请分析每个句子的语境和目的，在恰当的位置添加这些标记，使冥想引导更加自然和有效。确保标记的使用不会打断冥想的流畅性，而是增强引导的效果。', 'role': 'system'}, {'content': '请为以下冥想引导词添加适当的语气标记：\\n\\ntext: 现在，找一个安静的地方，轻轻闭上眼睛。\\n\\ntext: 深吸一口气，感受空气充满你的肺部，然后缓慢地呼出。\\n\\ntext: 让身体的每一部分都放松下来，从头到脚。\\n\\ntext: 我充满自信地迎接下周的面试，展现出最好的自己。\\n\\ntext: 我准备充分，轻松应对面试中的每一个问题。\\n\\ntext: 我的能力和经验让我在面试中脱颖而出。\\n\\ntext: 我保持冷静和专注，展现出我的专业素养。\\n\\ntext: 面试官对我的表现印象深刻，我顺利通过了面试。\\n\\ntext: 感谢自己花时间照顾内心的感受。\\n\\ntext: 当你准备好时，轻轻睁开眼睛，带着这份自信回到当下。', 'role': 'user'}], 'model': 'deepseek-chat', 'parallel_tool_calls': False, 'stream': False, 'tool_choice': {'type': 'function', 'function': {'name': 'MarkedMeditationScript'}}, 'tools': [{'type': 'function', 'function': {'name': 'MarkedMeditationScript', 'description': '', 'parameters': {'properties': {'sequences': {'items': {'properties': {'original_text': {'type': 'string'}, 'marked_text': {'type': 'string'}, 'duration': {'maximum': 6, 'minimum': 2, 'type': 'integer'}}, 'required': ['original_text', 'marked_text', 'duration'], 'type': 'object'}, 'type': 'array'}}, 'required': ['sequences'], 'type': 'object'}}}]}}\n",
      "2025-04-20 23:09:42,188 DEBUG Sending HTTP Request: POST https://api.deepseek.com/chat/completions\n",
      "2025-04-20 23:09:42,188 DEBUG send_request_headers.started request=<Request [b'POST']>\n",
      "2025-04-20 23:09:42,190 DEBUG send_request_headers.complete\n",
      "2025-04-20 23:09:42,190 DEBUG send_request_body.started request=<Request [b'POST']>\n",
      "2025-04-20 23:09:42,191 DEBUG send_request_body.complete\n",
      "2025-04-20 23:09:42,191 DEBUG receive_response_headers.started request=<Request [b'POST']>\n",
      "2025-04-20 23:09:42,246 DEBUG receive_response_headers.complete return_value=(b'HTTP/1.1', 200, b'OK', [(b'Date', b'Sun, 20 Apr 2025 15:09:42 GMT'), (b'Content-Type', b'application/json'), (b'Transfer-Encoding', b'chunked'), (b'Connection', b'keep-alive'), (b'vary', b'origin, access-control-request-method, access-control-request-headers'), (b'access-control-allow-credentials', b'true'), (b'x-ds-trace-id', b'e54eab6675b8cb104b8643d1df65c35e'), (b'Strict-Transport-Security', b'max-age=31536000; includeSubDomains; preload'), (b'X-Content-Type-Options', b'nosniff'), (b'Content-Encoding', b'gzip'), (b'Server', b'elb')])\n",
      "2025-04-20 23:09:42,247 INFO HTTP Request: POST https://api.deepseek.com/chat/completions \"HTTP/1.1 200 OK\"\n",
      "2025-04-20 23:09:42,247 DEBUG receive_response_body.started request=<Request [b'POST']>\n"
     ]
    },
    {
     "name": "stdout",
     "output_type": "stream",
     "text": [
      "脚本已生成\n",
      "{'script_node': {'messages': [], 'route': 'normal_chat', 'log': [], 'local_route': 'script_node', 'success': True, 'data': {'script': 'text: 现在，找一个安静的地方，轻轻闭上眼睛。\\n\\ntext: 深吸一口气，感受空气充满你的肺部，然后缓慢地呼出。\\n\\ntext: 让身体的每一部分都放松下来，从头到脚。\\n\\ntext: 我充满自信地迎接下周的面试，展现出最好的自己。\\n\\ntext: 我准备充分，轻松应对面试中的每一个问题。\\n\\ntext: 我的能力和经验让我在面试中脱颖而出。\\n\\ntext: 我保持冷静和专注，展现出我的专业素养。\\n\\ntext: 面试官对我的表现印象深刻，我顺利通过了面试。\\n\\ntext: 感谢自己花时间照顾内心的感受。\\n\\ntext: 当你准备好时，轻轻睁开眼睛，带着这份自信回到当下。'}}}\n"
     ]
    },
    {
     "name": "stderr",
     "output_type": "stream",
     "text": [
      "2025-04-20 23:10:05,029 DEBUG receive_response_body.complete\n",
      "2025-04-20 23:10:05,030 DEBUG response_closed.started\n",
      "2025-04-20 23:10:05,031 DEBUG response_closed.complete\n",
      "2025-04-20 23:10:05,031 DEBUG HTTP Response: POST https://api.deepseek.com/chat/completions \"200 OK\" Headers({'date': 'Sun, 20 Apr 2025 15:09:42 GMT', 'content-type': 'application/json', 'transfer-encoding': 'chunked', 'connection': 'keep-alive', 'vary': 'origin, access-control-request-method, access-control-request-headers', 'access-control-allow-credentials': 'true', 'x-ds-trace-id': 'e54eab6675b8cb104b8643d1df65c35e', 'strict-transport-security': 'max-age=31536000; includeSubDomains; preload', 'x-content-type-options': 'nosniff', 'content-encoding': 'gzip', 'server': 'elb'})\n",
      "2025-04-20 23:10:05,032 DEBUG request_id: None\n"
     ]
    },
    {
     "name": "stdout",
     "output_type": "stream",
     "text": [
      "带标记的脚本已生成\n",
      "{'tone_marking_node': {'messages': [], 'route': 'normal_chat', 'log': [], 'local_route': 'tone_marking_node', 'success': True, 'data': {'sequences': [{'id': 0, 'text': '现在，找一个安静的地方，轻轻闭上眼睛[breath]。', 'duration': 2}, {'id': 1, 'text': '<strong>深吸一口气</strong>[breath]，感受空气充满你的肺部，然后缓慢地呼出[breath]。', 'duration': 3}, {'id': 2, 'text': '让身体的每一部分都放松下来[breath]，从头[breath]到脚[breath]。', 'duration': 3}, {'id': 3, 'text': '<strong>我充满自信地迎接下周的面试</strong>，展现出最好的自己[breath]。', 'duration': 3}, {'id': 4, 'text': '<strong>我准备充分</strong>，轻松应对面试中的每一个问题[breath]。', 'duration': 3}, {'id': 5, 'text': '<strong>我的能力和经验让我在面试中脱颖而出</strong>[breath]。', 'duration': 3}, {'id': 6, 'text': '<strong>我保持冷静和专注</strong>，展现出我的专业素养[breath]。', 'duration': 3}, {'id': 7, 'text': '<strong>面试官对我的表现印象深刻</strong>，我顺利通过了面试[breath]。', 'duration': 3}, {'id': 8, 'text': '感谢自己花时间照顾内心的感受[sigh]。', 'duration': 2}, {'id': 9, 'text': '当你准备好时，轻轻睁开眼睛[breath]，带着这份自信回到当下[breath]。', 'duration': 3}]}}}\n"
     ]
    },
    {
     "name": "stderr",
     "output_type": "stream",
     "text": [
      "/root/miniconda3/envs/manifest_app/lib/python3.11/site-packages/diffusers/models/lora.py:393: FutureWarning: `LoRACompatibleLinear` is deprecated and will be removed in version 1.0.0. Use of `LoRACompatibleLinear` is deprecated. Please switch to PEFT backend by installing PEFT: `pip install peft`.\n",
      "  deprecate(\"LoRACompatibleLinear\", \"1.0.0\", deprecation_message)\n",
      "2025-04-20 23:10:06,950 INFO input frame rate=25\n",
      "/root/miniconda3/envs/manifest_app/lib/python3.11/site-packages/torch/nn/utils/weight_norm.py:143: FutureWarning: `torch.nn.utils.weight_norm` is deprecated in favor of `torch.nn.utils.parametrizations.weight_norm`.\n",
      "  WeightNorm.apply(module, name, dim)\n",
      "\u001b[1;31m2025-04-20 23:10:08.083752121 [E:onnxruntime:Default, provider_bridge_ort.cc:1744 TryGetProviderInfo_CUDA] /onnxruntime_src/onnxruntime/core/session/provider_bridge_ort.cc:1426 onnxruntime::Provider& onnxruntime::ProviderLibrary::Get() [ONNXRuntimeError] : 1 : FAIL : Failed to load library libonnxruntime_providers_cuda.so with error: libcudnn.so.8: cannot open shared object file: No such file or directory\n",
      "\u001b[m\n",
      "\u001b[0;93m2025-04-20 23:10:08.083774742 [W:onnxruntime:Default, onnxruntime_pybind_state.cc:870 CreateExecutionProviderInstance] Failed to create CUDAExecutionProvider. Please reference https://onnxruntime.ai/docs/execution-providers/CUDA-ExecutionProvider.html#requirementsto ensure all dependencies are met.\u001b[m\n",
      "2025-04-20 23:10:08,525 WETEXT INFO found existing fst: /root/miniconda3/envs/manifest_app/lib/python3.11/site-packages/tn/zh_tn_tagger.fst\n",
      "2025-04-20 23:10:08,525 WETEXT INFO found existing fst: /root/miniconda3/envs/manifest_app/lib/python3.11/site-packages/tn/zh_tn_tagger.fst\n",
      "2025-04-20 23:10:08,525 INFO found existing fst: /root/miniconda3/envs/manifest_app/lib/python3.11/site-packages/tn/zh_tn_tagger.fst\n",
      "2025-04-20 23:10:08,527 WETEXT INFO                     /root/miniconda3/envs/manifest_app/lib/python3.11/site-packages/tn/zh_tn_verbalizer.fst\n",
      "2025-04-20 23:10:08,527 WETEXT INFO                     /root/miniconda3/envs/manifest_app/lib/python3.11/site-packages/tn/zh_tn_verbalizer.fst\n",
      "2025-04-20 23:10:08,527 INFO                     /root/miniconda3/envs/manifest_app/lib/python3.11/site-packages/tn/zh_tn_verbalizer.fst\n",
      "2025-04-20 23:10:08,528 WETEXT INFO skip building fst for zh_normalizer ...\n",
      "2025-04-20 23:10:08,528 WETEXT INFO skip building fst for zh_normalizer ...\n",
      "2025-04-20 23:10:08,528 INFO skip building fst for zh_normalizer ...\n",
      "2025-04-20 23:10:08,980 WETEXT INFO found existing fst: /root/miniconda3/envs/manifest_app/lib/python3.11/site-packages/tn/en_tn_tagger.fst\n",
      "2025-04-20 23:10:08,980 WETEXT INFO found existing fst: /root/miniconda3/envs/manifest_app/lib/python3.11/site-packages/tn/en_tn_tagger.fst\n",
      "2025-04-20 23:10:08,980 INFO found existing fst: /root/miniconda3/envs/manifest_app/lib/python3.11/site-packages/tn/en_tn_tagger.fst\n",
      "2025-04-20 23:10:08,983 WETEXT INFO                     /root/miniconda3/envs/manifest_app/lib/python3.11/site-packages/tn/en_tn_verbalizer.fst\n",
      "2025-04-20 23:10:08,983 WETEXT INFO                     /root/miniconda3/envs/manifest_app/lib/python3.11/site-packages/tn/en_tn_verbalizer.fst\n",
      "2025-04-20 23:10:08,983 INFO                     /root/miniconda3/envs/manifest_app/lib/python3.11/site-packages/tn/en_tn_verbalizer.fst\n",
      "2025-04-20 23:10:08,984 WETEXT INFO skip building fst for en_normalizer ...\n",
      "2025-04-20 23:10:08,984 WETEXT INFO skip building fst for en_normalizer ...\n",
      "2025-04-20 23:10:08,984 INFO skip building fst for en_normalizer ...\n"
     ]
    },
    {
     "name": "stdout",
     "output_type": "stream",
     "text": [
      "{'tts_node': {'messages': [], 'route': 'normal_chat', 'log': [\"音频生成失败: 'female1_[12sec]'\"], 'local_route': 'tts_node', 'success': False, 'error': \"'female1_[12sec]'\"}}\n",
      "处理错误: 'female1_[12sec]'\n",
      "{'error_node': {'messages': [], 'route': 'normal_chat', 'log': [], 'local_route': 'outline_node', 'success': False, 'data': {'error_message': \"处理错误: 'female1_[12sec]'\"}, 'error': \"'female1_[12sec]'\"}}\n"
     ]
    }
   ],
   "source": [
    "import json\n",
    "\n",
    "for event in meditation_graph.stream(NodeResult(messages=messages), stream_mode=\"updates\"):\n",
    "    print(event)"
   ]
  },
  {
   "cell_type": "code",
   "execution_count": null,
   "metadata": {},
   "outputs": [],
   "source": []
  }
 ],
 "metadata": {
  "kernelspec": {
   "display_name": "manifest_app",
   "language": "python",
   "name": "python3"
  },
  "language_info": {
   "codemirror_mode": {
    "name": "ipython",
    "version": 3
   },
   "file_extension": ".py",
   "mimetype": "text/x-python",
   "name": "python",
   "nbconvert_exporter": "python",
   "pygments_lexer": "ipython3",
   "version": "3.11.11"
  }
 },
 "nbformat": 4,
 "nbformat_minor": 2
}
